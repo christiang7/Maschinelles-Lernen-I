{
 "cells": [
  {
   "cell_type": "markdown",
   "metadata": {
    "id": "ExZu7Yy0r8b4"
   },
   "source": [
    "# Decision Trees\n",
    "\n",
    "In this lab you will learn the most important aspects of the decision tree learning method. \n",
    "Completing this lab and analyzing the code will give you a deeper understanding of these type of models.\n",
    "In our experiments we will mostly use the package sklearn from which we import DecisionTreeClassifier.\n",
    "\n",
    "## Problem Setting\n",
    "\n",
    "First of all, we calculate by hand the impurity measure of splitting some data by some criteria ${\\color{Lavender}q}$ which in our case is given by a threshold ${\\color{Lavender}t}$. Remember, that information gain ${\\color{CornflowerBlue}IG}({\\color{Lavender}q})$ is calculated as follows: \n",
    "$${\\color{CornflowerBlue}IG}({\\color{Lavender}q}) = {\\color{LimeGreen}S}_{0} - \n",
    "\\mathop{\\color{CornflowerBlue}\\sum}_{{\\color{VioletRed}i}=1}^{k}\\frac{{\\color{CornflowerBlue}N}_{\\color{VioletRed}i}({\\color{Lavender}q})}{N}{\\color{LimeGreen}S}_{\\color{VioletRed}i}({\\color{Lavender}q})$$\n",
    "where $k$ is the number of groups after partition; $N$ is the total number of examples; ${\\color{CornflowerBlue}N}_{\\color{VioletRed}i}({\\color{Lavender}q})$ is the number of examples in the group ${\\color{VioletRed}i}$ and ${\\color{LimeGreen}S}$ is the (Shannon) entropy function defined as:\n",
    "$${\\color{LimeGreen}S} = - \\mathop{\\color{CornflowerBlue}\\sum}_{{\\color{VioletRed}i}}\\;\\hat{\\color{RawSienna}p}_{\\color{VioletRed}i}{\\color{CornflowerBlue}\\log}(\\hat{\\color{RawSienna}p}_{\\color{VioletRed}i})\\;,$$\n",
    "where $\\hat{\\color{RawSienna}p}_{\\color{VioletRed}i}$ is the empirical frequency that the randomly chosen object has label ${\\color{VioletRed}i}$."
   ]
  },
  {
   "cell_type": "code",
   "execution_count": 3,
   "metadata": {
    "id": "VGqKx3iFr8b6"
   },
   "outputs": [],
   "source": [
    "import numpy as np\n",
    "import pandas as pd\n",
    "import seaborn as sns\n",
    "from matplotlib import pyplot as plt\n",
    "\n",
    "%matplotlib inline"
   ]
  },
  {
   "cell_type": "markdown",
   "metadata": {
    "id": "FFtm8wZgr8b7"
   },
   "source": [
    "## Entropy\n",
    "<b>Exercise 1:</b>\n",
    "\n",
    "Write a function that calculates the entropy defined as: \n",
    "\n",
    "$${\\color{LimeGreen}S} = - \\mathop{\\color{CornflowerBlue}\\sum}_{{\\color{VioletRed}i}}\\;\\hat{\\color{RawSienna}p}_{\\color{VioletRed}i}{\\color{CornflowerBlue}\\log}(\\hat{\\color{RawSienna}p}_{\\color{VioletRed}i})\\;.$$ \n",
    "\n",
    "<b>Hint:</b> The function input is a vector of labels and the function should return the entropy. (Use the logarithm with base 2. In principle, any base for the logarithm can be used. Changing the base will just change the unit of information. Computer scientists like to use the base 2. In this case information is measured in bits.)"
   ]
  },
  {
   "cell_type": "code",
   "execution_count": 27,
   "metadata": {
    "id": "EqkvzsZRr8b7"
   },
   "outputs": [],
   "source": [
    "def entropy(y):\n",
    "    ### WRITE YOUR CODE HERE ###\n",
    "    p=[0,0]\n",
    "    for j in [0,1]:\n",
    "        for i in range(len(y)):\n",
    "            if j == y[i]:\n",
    "                p[j]=p[j]+1\n",
    "            #print(p[j])\n",
    "        p[j]=p[j]/len(y)\n",
    "        #print(p[j])\n",
    "    S = 0\n",
    "    for i in range(len(p)):\n",
    "        if p[i] != 0:\n",
    "            S=S+p[i]*np.log2(p[i])\n",
    "            #print(i)\n",
    "            #print(p[i])\n",
    "            print(S)\n",
    "    return -S\n",
    "#entropy(np.array([1,1,0,0])) == 1."
   ]
  },
  {
   "cell_type": "markdown",
   "metadata": {
    "id": "vrgO1GqQr8b9"
   },
   "source": [
    "Check if your solution is correct:"
   ]
  },
  {
   "cell_type": "code",
   "execution_count": 28,
   "metadata": {
    "id": "mWeK3pkrr8b9"
   },
   "outputs": [
    {
     "name": "stdout",
     "output_type": "stream",
     "text": [
      "-0.5\n",
      "-1.0\n",
      "0.0\n",
      "-0.5283208335737187\n",
      "-0.9182958340544896\n",
      "Testing successful.\n"
     ]
    }
   ],
   "source": [
    "try:\n",
    "    assert entropy(np.array([1,1,0,0])) == 1.\n",
    "    assert entropy(np.array([0,0])) == 0.\n",
    "    assert str(entropy(np.array([1,1,0,0,1,1])))[:8] == \"0.918295\"\n",
    "    print(\"Testing successful.\")\n",
    "except:\n",
    "    print(\"Tests failed.\")"
   ]
  },
  {
   "cell_type": "markdown",
   "metadata": {
    "id": "qIY1ypMkr8b-"
   },
   "source": [
    "## Information Gain\n",
    "\n",
    "<b> Exercise 2:</b>\n",
    "Write a function that calculates the information gain obtained by setting the threshold ${\\color{Lavender}t} \\in \\mathbb{R}$ for data points ${\\color{Lavender}x} \\in \\mathbb{R}^{d}$ with label ${\\color{Lavender}y} \\in \\mathbb{N}^{d}$. <b>Hint:</b> The function input is a vector $ {\\color{Lavender}x}$ of attribut values, a vector ${\\color{Lavender}y}$ of labels and a threshold ${\\color{Lavender}t}$. The function should return the information gain ${\\color{CornflowerBlue}IG}({\\color{Lavender}q})$ for that specific split.\n",
    "\n",
    "<b>Example</b>: A split at threshold ${\\color{Lavender}t}=2$ for data points ${\\color{Lavender}x} = [2,4,3,1,5]$ and label ${\\color{Lavender}y}=[1,0,0,0,0]$ would result in the lists \n",
    "* ${\\color{Lavender}x}_{\\text{right}} = [4,3,5]$, ${\\color{Lavender}y}_{\\text{right}} = [0,0,0]$ (for ${\\color{Lavender}x} > {\\color{Lavender}t}$) and\n",
    "* ${\\color{Lavender}x}_{\\text{left}} = [2,1]$, ${\\color{Lavender}y}_{\\text{left}} = [1,0]$ (for ${\\color{Lavender}x} <= {\\color{Lavender}t}$).\n",
    "* Computation of information gain: $\\textbf{entropy}([1,0,0,0,0]) - ((0.4 * \\textbf{entropy}([1,0]))+(0.6 * \\textbf{entropy}([0,0,0])))$"
   ]
  },
  {
   "cell_type": "code",
   "execution_count": null,
   "metadata": {
    "id": "Za_MVzVrr8b-"
   },
   "outputs": [],
   "source": [
    "def info_gain(x,y,t):\n",
    "    ### WRITE YOUR CODE HERE ###\n",
    "    "
   ]
  },
  {
   "cell_type": "markdown",
   "metadata": {
    "id": "lJ-CFkkyr8b-"
   },
   "source": [
    "Check if your solution is correct:"
   ]
  },
  {
   "cell_type": "code",
   "execution_count": null,
   "metadata": {
    "id": "V3rvnvO2r8b_"
   },
   "outputs": [],
   "source": [
    "try:\n",
    "    assert str(info_gain(np.array([5,2,3,44,5,6,7,8,9,10]),np.array([1,1,1,1,1,0,0,0,0,0]),5))[:8] == \"0.609986\"\n",
    "    assert str(info_gain(np.array([1,2,3,4,5,6,7,8,9,10]),np.array([1,1,1,1,1,0,0,0,0,0]),1))[:8] == \"0.108031\"\n",
    "    assert str(info_gain(np.array([1,2,3,4,5,6,7,8,9,10]),np.array([1,1,1,1,1,0,0,0,0,0]),3))[:8] == \"0.395815\"\n",
    "    assert str(info_gain(np.array([1,2,3,4,5,6,7,8,9,10]),np.array([1,1,1,1,1,0,0,0,0,0]),5))[:8] == \"1.0\"\n",
    "    assert str(info_gain(np.array([1,2,3,4,5,6,7,8,9,10]),np.array([1,1,1,1,1,0,0,0,0,0]),6))[:8] == \"0.609986\"\n",
    "    print(\"Testing successful.\")\n",
    "except:\n",
    "    print(\"Tests failed.\")"
   ]
  },
  {
   "cell_type": "markdown",
   "metadata": {
    "id": "KWRhzGvtr8b_"
   },
   "source": [
    "<b> Exercise 3:</b>\n",
    "\n",
    "* Create a 2-dimensional data set with the help of the function make_blobs from package sklearn.datasets (the two returned variables should be named 'X' and 'label'). The data set should contain 500 data points with 2 clusters (2 classes). The cluster centers should be located at (0,0) and (3,3).\n",
    "* Visualize the data set. It should look like this:\n",
    "<img src=\"./figures/dataset.png\" width=\"600\"/>"
   ]
  },
  {
   "cell_type": "code",
   "execution_count": null,
   "metadata": {
    "id": "mqmWRQ9Er8b_"
   },
   "outputs": [],
   "source": [
    "from sklearn.datasets import make_blobs\n",
    "### WRITE YOUR CODE HERE ###\n",
    "X, label = None, None # You need to modify this line"
   ]
  },
  {
   "cell_type": "markdown",
   "metadata": {
    "id": "GREPkjrcr8cA"
   },
   "source": [
    "<b>Exercise 4:</b>\n",
    "\n",
    "Write a function 'find_best_split(x,y)' that gets two input vectors $x \\in \\mathbb{R}^d$ and $y \\in \\{0,1\\}^d$. This function should return the threshold $t \\in x$ with the best split. <b>Hint:</b> Use the function 'info_gain' from exercise 2."
   ]
  },
  {
   "cell_type": "code",
   "execution_count": null,
   "metadata": {
    "id": "eDUSSbnAr8cA"
   },
   "outputs": [],
   "source": [
    "def find_best_split(x,y):\n",
    "    ### WRITE YOUR CODE HERE ###\n",
    "    pass"
   ]
  },
  {
   "cell_type": "markdown",
   "metadata": {
    "id": "brkY-2b1r8cA"
   },
   "source": [
    "Check if your solution is correct:"
   ]
  },
  {
   "cell_type": "code",
   "execution_count": null,
   "metadata": {
    "id": "XtEefdMdr8cB"
   },
   "outputs": [],
   "source": [
    "try:\n",
    "    assert find_best_split(np.array([1,2,3,4,5,6,7,8,9,10]),np.array([1,1,1,1,1,0,0,0,0,0])) == 5\n",
    "    assert find_best_split(np.array([1,2,2,4,5,6,7,8,9,10]),np.array([1,1,0,0,1,0,0,1,0,0])) == 8    \n",
    "    print(\"Testing successful.\")\n",
    "except:\n",
    "    print(\"Tests failed.\")"
   ]
  },
  {
   "cell_type": "markdown",
   "metadata": {
    "id": "0TAKQeQ7r8cC"
   },
   "source": [
    "<b>Exercise 5:</b>\n",
    "\n",
    "* Find the best splitting for the two dimensions of the data set created in exercise 3. Plot the boundaries in a figure. Your figure should look like this:\n",
    "\n",
    "<img src=\"./figures/split.png\" width=\"600\"/>\n",
    "\n",
    "* Which split would you prefer, and why?"
   ]
  },
  {
   "cell_type": "code",
   "execution_count": null,
   "metadata": {
    "id": "0N0OR2lHr8cD"
   },
   "outputs": [],
   "source": [
    "x_best = find_best_split(X[:,0],label)\n",
    "y_best = find_best_split(X[:,1],label)\n",
    "### WRITE YOUR CODE HERE ###\n"
   ]
  },
  {
   "cell_type": "markdown",
   "metadata": {
    "id": "m4JszCTUr8cD"
   },
   "source": [
    "## Train a Decision Tree\n",
    "Now we train a decision tree using the sklearn package:"
   ]
  },
  {
   "cell_type": "code",
   "execution_count": null,
   "metadata": {
    "id": "0EDFCibKr8cD"
   },
   "outputs": [],
   "source": [
    "from sklearn.tree import DecisionTreeClassifier\n",
    "\n",
    "clf_tree = DecisionTreeClassifier(criterion='entropy', max_depth=1)\n",
    "clf_tree.fit(X, label)"
   ]
  },
  {
   "cell_type": "markdown",
   "metadata": {
    "id": "4pOhOoo1r8cD"
   },
   "source": [
    "<b>Exercise 6:</b>\n",
    "* Calculate the predictions for all instances from the training set (use the function predict). Which instances are misclassified? Create a plot that shows which instances are correctly classified and which instances are misclassified. This figure should look like this:\n",
    "\n",
    "<img src=\"./figures/dec.png\" width=\"600\"/>\n",
    "\n",
    "* Can you find learning parameters for the decision tree classifier (max_depth,min_samples_leaf,max_leaf_nodes,...) to get a classifier that classifies all instances correctly?"
   ]
  },
  {
   "cell_type": "code",
   "execution_count": null,
   "metadata": {
    "id": "7xJJyNClr8cD"
   },
   "outputs": [],
   "source": [
    "### WRITE YOUR CODE HERE ###\n"
   ]
  }
 ],
 "metadata": {
  "colab": {
   "name": "Lab04_DecisionTrees.ipynb",
   "provenance": []
  },
  "kernelspec": {
   "display_name": "Python 3 (ipykernel)",
   "language": "python",
   "name": "python3"
  },
  "language_info": {
   "codemirror_mode": {
    "name": "ipython",
    "version": 3
   },
   "file_extension": ".py",
   "mimetype": "text/x-python",
   "name": "python",
   "nbconvert_exporter": "python",
   "pygments_lexer": "ipython3",
   "version": "3.10.14"
  }
 },
 "nbformat": 4,
 "nbformat_minor": 4
}
