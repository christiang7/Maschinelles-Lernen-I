{
 "cells": [
  {
   "cell_type": "markdown",
   "metadata": {
    "editable": true,
    "id": "lY6Srt5R1li0",
    "slideshow": {
     "slide_type": ""
    },
    "tags": []
   },
   "source": [
    "# Linear Regression\n",
    "\n",
    "In this tutorial we will implement a linear regression model. We will also implement a function that splits the available data into a training and a testing part.\n",
    "\n",
    "## Problem Setting\n",
    "\n",
    "We will use the Boston Housing Dataset. This dataset contains information collected by the U.S Census Service concerning housing in the city of Boston in the state of Massachusetts in 1978. Our goal is to predict the median value of the houses in a particular town in the city of Boston given its attributes. Check the file `housing_features_description.txt` for more information on the attributes."
   ]
  },
  {
   "cell_type": "code",
   "execution_count": 2,
   "metadata": {
    "id": "kHxSLZ7w1li1",
    "scrolled": true
   },
   "outputs": [],
   "source": [
    "import urllib\n",
    "import pandas as pd\n",
    "import numpy as np\n",
    "# for auto-reloading external modules\n",
    "# see http://stackoverflow.com/questions/1907993/autoreload-of-modules-in-ipython\n",
    "%load_ext autoreload\n",
    "%autoreload 2\n",
    "\n",
    "### NOTE: The boston dataset has an ethical problem. More on this can e.g. be found in the scikit documentation. ###\n",
    "### Summary: The dataset contains the proportion of black people, which was assumed that racial self-segregation had a positive impact on house prices. ###\n",
    "\n",
    "\n",
    "data_url = \"http://lib.stat.cmu.edu/datasets/boston\"\n",
    "raw_df = pd.read_csv(data_url, sep=\"\\s+\", skiprows=22, header=None)\n",
    "boston_data = np.hstack([raw_df.values[::2, :], raw_df.values[1::2, :2]])\n",
    "boston_target = raw_df.values[1::2, 2]\n",
    "\n",
    "df=pd.DataFrame(boston_data)\n",
    "df.columns=['crime_rate','res_land_zoned','industry','charles_river','nox','avg_num_rooms','prop_bf_1940','dst_emply_center','rd_highway_idx','tax_rate','stdnt_tchr_ratio','prop_blacks','low_status_pct']\n",
    "X=boston_data\n",
    "y=boston_target\n"
   ]
  },
  {
   "cell_type": "code",
   "execution_count": 9,
   "metadata": {
    "id": "BkyIMHZN1li3"
   },
   "outputs": [],
   "source": [
    "#df.tail()\n",
    "#print(X)\n",
    "#print(boston_target)\n",
    "#print(boston_data)"
   ]
  },
  {
   "cell_type": "markdown",
   "metadata": {
    "id": "a2pPZJYnLNVj"
   },
   "source": [
    "### Note - attention\n",
    "\n",
    "Think about the ethical aspects of this dataset and machine learning in general. \n",
    "\n",
    "Can you always trust your data source? Can we use every possible information for our models?"
   ]
  },
  {
   "cell_type": "markdown",
   "metadata": {
    "id": "VJG66FPb1li3"
   },
   "source": [
    "## Exercise 1\n",
    "\n",
    "Write the `split_train_test`$({\\color{RawSienna}X},{\\color{Dandelion}y},{\\color{Tomato}\\mathrm{split}},{\\color{Tomato}\\mathrm{seed}})$, given an instance matrix ${\\color{RawSienna}X} \\in {\\color{Tan}\\mathbb{R}}^{N \\times D}$, labels ${\\color{Dandelion}y} \\in {\\color{Tan}Y}^N$, a split ratio ${\\color{Tomato}\\mathrm{split}} \\in [0, 1]$ and a random seed ${\\color{Tomato}\\mathrm{seed}} \\in {\\color{Tan}\\mathbb{Z}}$. Split the dataset in $({\\color{Tomato}\\mathrm{split}}×100)\\%$ of the instances for training our model and the rest for testing, i.e. \n",
    "\n",
    "$$ \\left|{\\color{RawSienna}X}_{\\text{train}}\\right| = \\lceil {\\color{Tomato}\\text{split}} \\cdot N \\rceil, \\qquad |{\\color{RawSienna}X}_{\\text{train}}| + |{\\color{RawSienna}X}_{\\text{test}}| = N. $$\n",
    "Make sure you use the given random number generator seed so we all get the same results. The function is supposed to return:\n",
    "\n",
    "- `X_train`$={\\color{RawSienna}X}_{\\text{train}}$, `y_train`$={\\color{Dandelion}y}_{\\text{train}}$: the training instances and labels;\n",
    "- `X_test`$={\\color{RawSienna}X}_{\\text{test}}$, `y_test`$={\\color{Dandelion}y}_{\\text{test}}$: the test instances and labels,\n",
    "\n",
    "in the same order as was mentioned.\n",
    "\n",
    "Hint: It may be helpful to use shuffling functionality (e.g. `np.random.shuffle`)."
   ]
  },
  {
   "cell_type": "code",
   "execution_count": 3,
   "metadata": {
    "id": "eZ2by_fO1li4"
   },
   "outputs": [],
   "source": [
    "#np.random.default_rng(100)\n",
    "#np.random.shuffle(X)\n",
    "def split_train_test(X, y, split, seed):\n",
    "    k = int(split*len(y))\n",
    "    np.random.default_rng(seed)\n",
    "    np.random.shuffle(X)\n",
    "    X_train, X_test = X[:k,:], X[k:,:]\n",
    "    y_train, y_test = y[:k], y[k:]\n",
    "    return X_train, y_train, X_test, y_test"
   ]
  },
  {
   "cell_type": "code",
   "execution_count": 104,
   "metadata": {},
   "outputs": [],
   "source": [
    "#X_train, y_train, X_test, y_test = split_train_test(X, y, 0.5, 200)"
   ]
  },
  {
   "cell_type": "markdown",
   "metadata": {
    "id": "Pxm9S36_1li4"
   },
   "source": [
    "## Exercise 2\n",
    "\n",
    "Write the function `train_linear_reg`$({\\color{RawSienna}X}_{\\text{train}}, {\\color{Dandelion}y}_{\\text{train}}, {\\color{Tomato}\\lambda})$.\n",
    "\n",
    "Implement the ridge regression model (slide 24). The function should output the learned weight vector ${\\color{Tomato}\\theta} \\in {\\color{Tan}\\mathbb{R}}^D$ or ${\\color{Tan}\\mathbb{R}}^{D+1}$ (depending on whether you are adding **bias**).\n",
    "\n",
    "Calculation of the weight vectors ${\\color{Tomato}\\theta}$:\n",
    "\n",
    "$$\n",
    "{\\color{Tomato}\\theta}=({\\color{RawSienna}X}^{\\color{CornflowerBlue}\\mathrm{T}}{\\color{RawSienna}X}+{\\color{Tomato}\\lambda}I)^{-1}{\\color{RawSienna}X}^{\\color{CornflowerBlue}\\mathrm{T}}{\\color{Dandelion}y}\n",
    "$$"
   ]
  },
  {
   "cell_type": "code",
   "execution_count": 4,
   "metadata": {
    "id": "3LDp7ssz1li5"
   },
   "outputs": [],
   "source": [
    "#lmbd=1.\n",
    "#np.dot( np.linalg.inv(np.dot(X_train.T,X_train)+lmbd*np.identity(len(X_train.T))), np.dot(X_train.T, y_train))\n",
    "def train_linear_reg(X, y, lbda):\n",
    "    return np.dot( np.linalg.inv(np.dot(X.T, X) + lbda*np.identity(len(X.T))), np.dot(X.T, y) ) # theta"
   ]
  },
  {
   "cell_type": "code",
   "execution_count": 94,
   "metadata": {},
   "outputs": [],
   "source": [
    "#train_linear_reg(X_train, y_train, 1)\n",
    "#lbda*np.identity(len(X.T))"
   ]
  },
  {
   "cell_type": "markdown",
   "metadata": {
    "id": "VzAAV9et1li5"
   },
   "source": [
    "## Exercise 3\n",
    "\n",
    "Write the function `predict`$({\\color{RawSienna}X},{\\color{Tomato}\\theta})$ which predicts housing values vector pred for a dataset ${\\color{RawSienna}X}$ and a previously trained parameter vector ${\\color{Tomato}\\theta}$."
   ]
  },
  {
   "cell_type": "code",
   "execution_count": 5,
   "metadata": {
    "id": "1k7w4Iyq1li6"
   },
   "outputs": [],
   "source": [
    "def func(theta, X):\n",
    "    return np.dot(X, theta)\n",
    "\n",
    "def predict_lin(X, theta):\n",
    "    #numberofpredictions=0\n",
    "    pred=np.zeros(len(X))\n",
    "    for i in range(len(X)):\n",
    "        pred[i]=func(theta, X[i])\n",
    "    return pred # y_pred"
   ]
  },
  {
   "cell_type": "markdown",
   "metadata": {
    "id": "H83oY9Zn1li6"
   },
   "source": [
    "## Exercise 4\n",
    "\n",
    "Write the function `mean_abs_loss`$({\\color{Dandelion}y}_{\\text{true}}, {\\color{Dandelion}y}_{\\text{pred}})$ which computes the mean of the absolute differences between our prediction vector ${\\color{Dandelion}y}_{\\text{pred}}$ and the real housing values ${\\color{Dandelion}y}_{\\text{true}}$."
   ]
  },
  {
   "cell_type": "code",
   "execution_count": 6,
   "metadata": {
    "id": "hiNjDcM-1li7"
   },
   "outputs": [],
   "source": [
    "def mean_abs_loss(y_true, y_pred):\n",
    "    mean=0\n",
    "    for i in range(len(y_true)):\n",
    "        mean+=abs(y_true[i]-np.round(y_pred[i], decimals=1))\n",
    "    mean=mean/len(y_true)\n",
    "    return mean"
   ]
  },
  {
   "cell_type": "markdown",
   "metadata": {
    "id": "G9CXkha41li7"
   },
   "source": [
    "## Exercise 5\n",
    "\n",
    "Evaluate your solutions by running the following code. \n",
    "\n",
    "Moreover, answer the following questions: What is the most important feature in your model? Are there features that are not so important? What happens if you remove them? Are there outliers with a high absolute loss?"
   ]
  },
  {
   "cell_type": "code",
   "execution_count": 8,
   "metadata": {
    "id": "v-hRUKyC1li8"
   },
   "outputs": [
    {
     "name": "stdout",
     "output_type": "stream",
     "text": [
      "[ 6.39217119e-02  3.91212125e-02  6.22249938e-03  2.67812269e+00\n",
      "  8.60058545e+00  1.37198695e+00 -3.84428205e-02 -1.74017959e-01\n",
      " -2.23634750e-01  9.11397294e-03  4.70698341e-01  5.05555273e-03\n",
      "  8.74041316e-02]\n",
      "16.02549019607843\n",
      "[23.7 23.9 26.5 23.4 31.1 24.  23.1 23.7 24.  25.5 23.6 25.4 23.9 24.2\n",
      " 26.2 23.7 24.6 24.5 23.4 24.3 24.8 24.1 22.  24.1 23.4 22.5 23.4 25.\n",
      " 23.6 22.1 25.3 25.  24.4 22.5 26.9 21.9 26.  22.6 23.8 25.  24.6 27.3\n",
      " 22.6 23.4 24.4 22.  21.7 25.6 25.7 24.7 24.5 25.1 25.9 24.8 27.6 26.2\n",
      " 23.3 23.7 23.3 25.1 26.1 21.3 25.4 27.6 24.2 24.5 23.6 25.1 25.6 23.3\n",
      " 24.2 23.2 23.5 23.1 23.4 23.4 23.7 23.3 27.6 23.4 21.7 23.5 23.1 24.1\n",
      " 28.3 23.3 23.1 24.7 24.5 26.1 25.1 23.4 22.9 25.1 22.  22.2 24.4 25.6\n",
      " 24.  24.8 23.6 24.6]\n",
      "[ 8.5  5.  11.9 27.9 17.2 27.5 15.  17.2 17.9 16.3  7.   7.2  7.5 10.4\n",
      "  8.8  8.4 16.7 14.2 20.8 13.4 11.7  8.3 10.2 10.9 11.   9.5 14.5 14.1\n",
      " 16.1 14.3 11.7 13.4  9.6  8.7  8.4 12.8 10.5 17.1 18.4 15.4 10.8 11.8\n",
      " 14.9 12.6 14.1 13.  13.4 15.2 16.1 17.8 14.9 14.1 12.7 13.5 14.9 20.\n",
      " 16.4 17.7 19.5 20.2 21.4 19.9 19.  19.1 19.1 20.1 19.9 19.6 23.2 29.8\n",
      " 13.8 13.3 16.7 12.  14.6 21.4 23.  23.7 25.  21.8 20.6 21.2 19.1 20.6\n",
      " 15.2  7.   8.1 13.6 20.1 21.8 24.5 23.1 19.7 18.3 21.2 17.5 16.8 22.4\n",
      " 20.6 23.9 22.  11.9]\n",
      "8.562745098039215\n",
      "The mean absolute loss is 8562.745\n"
     ]
    }
   ],
   "source": [
    "seed = 3\n",
    "lbda = 0.1\n",
    "split = 0.8\n",
    "X_train, y_train, X_test, y_test = split_train_test(X,y,split,seed)\n",
    "\n",
    "theta = train_linear_reg(X_train, y_train, lbda)\n",
    "\n",
    "y_pred = predict_lin(X_test, theta)\n",
    "\n",
    "mae = mean_abs_loss(y_test, y_pred)\n",
    "\n",
    "print(theta)\n",
    "\n",
    "print(y_test.mean())\n",
    "\n",
    "print(np.round(y_pred, decimals=1))\n",
    "print(y_test)\n",
    "print(mae)\n",
    "print ('The mean absolute loss is {loss:0.3f}'.format(loss=mae*1000))"
   ]
  },
  {
   "cell_type": "code",
   "execution_count": null,
   "metadata": {},
   "outputs": [],
   "source": []
  }
 ],
 "metadata": {
  "colab": {
   "name": "Lab07_LinearRegression.ipynb",
   "provenance": []
  },
  "kernelspec": {
   "display_name": "Python 3 (ipykernel)",
   "language": "python",
   "name": "python3"
  },
  "language_info": {
   "codemirror_mode": {
    "name": "ipython",
    "version": 3
   },
   "file_extension": ".py",
   "mimetype": "text/x-python",
   "name": "python",
   "nbconvert_exporter": "python",
   "pygments_lexer": "ipython3",
   "version": "3.10.14"
  },
  "widgets": {
   "application/vnd.jupyter.widget-state+json": {
    "state": {},
    "version_major": 2,
    "version_minor": 0
   }
  }
 },
 "nbformat": 4,
 "nbformat_minor": 4
}
