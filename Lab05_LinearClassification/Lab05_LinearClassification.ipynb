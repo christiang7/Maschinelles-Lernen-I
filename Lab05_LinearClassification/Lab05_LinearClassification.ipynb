{
 "cells": [
  {
   "cell_type": "markdown",
   "metadata": {
    "id": "4i0ChBBhxF0K"
   },
   "source": [
    "# Linear Classification\n",
    "\n",
    "In this lab you will implement parts of a linear classification model using the regularized empirical risk minimization principle. By completing this lab and analysing the code, you gain deeper understanding of these type of models, and of gradient descent.\n",
    "\n",
    "\n",
    "## Problem Setting\n",
    "\n",
    "The dataset describes diagnosing of cardiac Single Proton Emission Computed Tomography (SPECT) images. Each of the patients is classified into two categories: normal `(1)` and abnormal `(0)`. The training data contains 80 SPECT images from which 22 binary features have been extracted. The goal is to predict the label for an unseen test set of 187 tomography images."
   ]
  },
  {
   "cell_type": "code",
   "execution_count": 1,
   "metadata": {},
   "outputs": [],
   "source": [
    "!xournalpp Linear_Classification_Models.pdf 2>/dev/null"
   ]
  },
  {
   "cell_type": "code",
   "execution_count": 4,
   "metadata": {},
   "outputs": [
    {
     "name": "stdout",
     "output_type": "stream",
     "text": [
      "\u001b[0m(Paused) AV: 00:05:38 / 01:29:43 (6%) A-V:  0.000 Dropped: 3\u001b[0m1K\u001b[1K\u001b[1K\u001b[1K\u001b[1K\u001b[1K\u001b[1K\u001b[1K\u001b[1K\u001b[1K\u001b[1K\u001b[1K\u001b[1K\u001b[1K\u001b[1K\u001b[1K\u001b[1K\u001b[1K\u001b[1K\u001b[1K\u001b[1K\u001b[1K\u001b[1K\u001b[1K\u001b[1K\u001b[1K\u001b[1K\u001b[1K\u001b[1K\u001b[1K\u001b[1K\u001b[1K\u001b[1K\u001b[1K\u001b[1K\u001b[1K\u001b[1K\u001b[1K\u001b[1K\u001b[1K\u001b[1K\u001b[1K\u001b[1K\u001b[1K\u001b[1K\u001b[1K\u001b[1K\u001b[1K\u001b[1K\u001b[1K\u001b[1K\u001b[1K\u001b[1K\u001b[1K\u001b[1K\u001b[1K\u001b[1K\u001b[1K\u001b[1K\u001b[1K\u001b[1K\u001b[1K\u001b[1K\u001b[1K\u001b[1K\u001b[1K\u001b[1K\u001b[1K\u001b[1K\u001b[1K\u001b[1K\u001b[1K\u001b[1K\u001b[1K\u001b[1K\u001b[1K\u001b[1K\u001b[1K\u001b[1K\u001b[1K\u001b[1K\u001b[1K\u001b[1K\u001b[1K\u001b[1K\u001b[1K\u001b[1K\u001b[1K\u001b[1K\u001b[1K\u001b[1K\u001b[1K\u001b[1K\u001b[1K\u001b[1K\u001b[1K\u001b[1K\u001b[1K\u001b[1K\u001b[1K\u001b[1K\u001b[1K\u001b[1K\u001b[1K\u001b[1K\u001b[1K\u001b[1K\u001b[1K\u001b[1K\u001b[1K\u001b[1K\u001b[1K\u001b[1K\u001b[1K\u001b[1K\u001b[1K\u001b[1K\u001b[1K\u001b[1K\u001b[1K\u001b[1K\u001b[1K\u001b[1K\u001b[1K\u001b[1K\u001b[1K\u001b[1K\u001b[1K\u001b[1K\u001b[1K\u001b[1K\u001b[1K\u001b[1K\u001b[1K\u001b[1K\u001b[1K\u001b[1K\u001b[1K\u001b[1K\u001b[1K\u001b[1K\u001b[1K\u001b[1K\u001b[1K\u001b[1K\u001b[1K\u001b[1K\u001b[1K\u001b[1K\u001b[1K\u001b[1K\u001b[1K\u001b[1K\u001b[1K\u001b[1K\u001b[1K\u001b[1K\u001b[1K\u001b[1K\u001b[1K\u001b[1K\u001b[1K\u001b[1K\u001b[1K\u001b[1K\u001b[1K\u001b[1K\u001b[1K\u001b[1K\u001b[1K\u001b[1K\u001b[1K\u001b[1K\u001b[1K\u001b[1K\u001b[1K\u001b[1K\u001b[1K\u001b[1K\u001b[1K\u001b[1K\u001b[1K\u001b[1K\u001b[1K\u001b[1K\u001b[1K\u001b[1K\u001b[1K\u001b[1K\u001b[1K\u001b[1K\u001b[1K\u001b[1K\u001b[1K\u001b[1K\u001b[1K\u001b[1K\u001b[1K\u001b[1K\u001b[1K\u001b[1K\u001b[1K\u001b[1K\u001b[1K\u001b[1K\u001b[1K\u001b[1K\u001b[1K\u001b[1K\u001b[1K\u001b[1K\u001b[1K\u001b[1K\u001b[1K\u001b[1K\u001b[1K\u001b[1K\u001b[1K\u001b[1K\u001b[1K\u001b[1K\u001b[1K\u001b[1K\u001b[1K\u001b[1K\u001b[1K\u001b[1K\u001b[1K\u001b[1K\u001b[1K\u001b[1K\u001b[1K\u001b[1K\u001b[1K\u001b[1K\u001b[1K\u001b[1K\u001b[1K\u001b[1K\u001b[1K\u001b[1K\u001b[1K\u001b[1K\u001b[1K\u001b[1K\u001b[1K\u001b[1K\u001b[1K\u001b[1K\u001b[1K\u001b[1K\u001b[1K\u001b[1K\u001b[1K\u001b[1K\u001b[1K\u001b[1K\u001b[1K\u001b[1K\u001b[1K\u001b[1K\u001b[1K\u001b[1K\u001b[1K\u001b[1K\u001b[1K\u001b[1K\u001b[1K\u001b[1K\u001b[1K\u001b[1K\u001b[1K\u001b[1K\u001b[1K\u001b[1K\u001b[1K\u001b[1K\u001b[1K\u001b[1K\u001b[1K\u001b[1K\u001b[1K\u001b[1K\u001b[1K\u001b[1K\u001b[1K\u001b[1K\u001b[1K\u001b[1K\u001b[1K\u001b[1K\u001b[1K\u001b[1K\u001b[1K\u001b[1K\u001b[1K\u001b[1K\u001b[1K\u001b[1K\u001b[1K\u001b[1K\u001b[1K\u001b[1K\u001b[1K\u001b[1K\u001b[1K\u001b[1K\u001b[1K\u001b[1K\u001b[1K\u001b[1K\u001b[1K\u001b[1K\u001b[1K\u001b[1K\u001b[1K\u001b[1K\u001b[1K\u001b[1K\u001b[1K\u001b[1K\u001b[1K\u001b[1K\u001b[1K\u001b[1K\u001b[1K\u001b[1K\u001b[1K\u001b[1K\u001b[1K\u001b[1K\u001b[1K\u001b[1K\u001b[1K\u001b[1K\u001b[1K\u001b[1K\u001b[1K\u001b[1K\u001b[1K\u001b[1K\u001b[1K\u001b[1K\u001b[1K\u001b[1K\u001b[1K\u001b[1K\u001b[?25h\n"
     ]
    }
   ],
   "source": [
    "!mpv Linear_Classification.mp4 2>&1 1>/dev/null"
   ]
  },
  {
   "cell_type": "code",
   "execution_count": 2,
   "metadata": {},
   "outputs": [
    {
     "name": "stdout",
     "output_type": "stream",
     "text": [
      "\u001b[0mAV: 01:26:37 / 01:27:07 (99%) A-V:  0.000\u001b[0m\u001b[1K0\u001b[0mK\u001b[1K\u001b[1K\u001b[1K\u001b[1K\u001b[1K\u001b[1K\u001b[1K\u001b[1K\u001b[1K\u001b[1K\u001b[1K\u001b[1K\u001b[1K\u001b[1K\u001b[1K\u001b[1K\u001b[1K\u001b[1K\u001b[1K\u001b[1K\u001b[1K\u001b[1K\u001b[1K\u001b[1K\u001b[1K\u001b[1K\u001b[1K\u001b[1K\u001b[1K\u001b[1K\u001b[1K\u001b[1K\u001b[1K\u001b[1K\u001b[1K\u001b[1K\u001b[1K\u001b[1K\u001b[1K\u001b[1K\u001b[1K\u001b[1K\u001b[1K\u001b[1K\u001b[1K\u001b[1K\u001b[1K\u001b[1K\u001b[1K\u001b[1K\u001b[1K\u001b[1K\u001b[1K\u001b[1K\u001b[1K\u001b[1K\u001b[1K\u001b[1K\u001b[1K\u001b[1K\u001b[1K\u001b[1K\u001b[1K\u001b[1K\u001b[1K\u001b[1K\u001b[1K\u001b[1K\u001b[1K\u001b[1K\u001b[1K\u001b[1K\u001b[1K\u001b[1K\u001b[1K\u001b[1K\u001b[1K\u001b[1K\u001b[1K\u001b[1K\u001b[1K\u001b[1K\u001b[1K\u001b[1K\u001b[1K\u001b[1K\u001b[1K\u001b[1K\u001b[1K\u001b[1K\u001b[1K\u001b[1K\u001b[1K\u001b[1K\u001b[1K\u001b[1K\u001b[1K\u001b[1K\u001b[1K\u001b[1K\u001b[1K\u001b[1K\u001b[1K\u001b[1K\u001b[1K\u001b[1K\u001b[1K\u001b[1K\u001b[1K\u001b[1K\u001b[1K\u001b[1K\u001b[1K\u001b[1K\u001b[1K\u001b[1K\u001b[1K\u001b[1K\u001b[1K\u001b[1K\u001b[1K\u001b[1K\u001b[1K\u001b[1K\u001b[1K\u001b[1K\u001b[1K\u001b[1K\u001b[1K\u001b[1K\u001b[1K\u001b[1K\u001b[1K\u001b[1K\u001b[1K\u001b[1K\u001b[1K\u001b[1K\u001b[1K\u001b[1K\u001b[1K\u001b[1K\u001b[1K\u001b[1K\u001b[1K\u001b[1K\u001b[1K\u001b[1K\u001b[1K\u001b[1K\u001b[1K\u001b[1K\u001b[1K\u001b[1K\u001b[1K\u001b[1K\u001b[1K\u001b[1K\u001b[1K\u001b[1K\u001b[1K\u001b[1K\u001b[1K\u001b[1K\u001b[1K\u001b[1K\u001b[1K\u001b[1K\u001b[1K\u001b[1K\u001b[1K\u001b[1K\u001b[1K\u001b[1K\u001b[1K\u001b[1K\u001b[1K\u001b[1K\u001b[1K\u001b[1K\u001b[1K\u001b[1K\u001b[1K\u001b[1K\u001b[1K\u001b[1K\u001b[1K\u001b[1K\u001b[1K\u001b[1K\u001b[1K\u001b[1K\u001b[1K\u001b[1K\u001b[1K\u001b[1K\u001b[1K\u001b[1K\u001b[1K\u001b[1K\u001b[1K\u001b[1K\u001b[1K\u001b[1K\u001b[1K\u001b[1K\u001b[1K\u001b[1K\u001b[1K\u001b[1K\u001b[1K\u001b[1K\u001b[1K\u001b[1K\u001b[1K\u001b[1K\u001b[1K\u001b[1K\u001b[1K\u001b[1K\u001b[1K\u001b[1K\u001b[1K\u001b[1K\u001b[1K\u001b[1K\u001b[1K\u001b[1K\u001b[1K\u001b[1K\u001b[1K\u001b[1K\u001b[1K\u001b[1K\u001b[1K\u001b[1K\u001b[1K\u001b[1K\u001b[1K\u001b[1K\u001b[1K\u001b[1K\u001b[1K\u001b[1K\u001b[1K\u001b[1K\u001b[1K\u001b[1K\u001b[1K\u001b[1K\u001b[1K\u001b[1K\u001b[1K\u001b[1K\u001b[1K\u001b[1K\u001b[1K\u001b[1K\u001b[1K\u001b[1K\u001b[1K\u001b[1K\u001b[1K\u001b[1K\u001b[1K\u001b[1K\u001b[1K\u001b[1K\u001b[1K\u001b[1K\u001b[1K\u001b[1K\u001b[1K\u001b[1K\u001b[1K\u001b[1K\u001b[1K\u001b[1K\u001b[1K\u001b[1K\u001b[1K\u001b[1K\u001b[1K\u001b[1K\u001b[1K\u001b[1K\u001b[1K\u001b[1K\u001b[1K\u001b[1K\u001b[1K\u001b[1K\u001b[1K\u001b[1K\u001b[1K\u001b[1K\u001b[1K\u001b[1K\u001b[1K\u001b[1K\u001b[1K\u001b[1K\u001b[1K\u001b[1K\u001b[1K\u001b[1K\u001b[1K\u001b[1K\u001b[1K\u001b[1K\u001b[1K\u001b[1K\u001b[1K\u001b[1K\u001b[1K\u001b[1K\u001b[1K\u001b[1K\u001b[1K\u001b[1K\u001b[1K\u001b[1K\u001b[1K\u001b[1K\u001b[1K\u001b[1K\u001b[1K\u001b[1K\u001b[1K\u001b[1K\u001b[1K\u001b[1K\u001b[1K\u001b[1K\u001b[1K\u001b[1K\u001b[1K\u001b[1K\u001b[1K\u001b[1K\u001b[1K\u001b[1K\u001b[1K\u001b[1K\u001b[1K\u001b[1K\u001b[1K\u001b[1K\u001b[1K\u001b[1K\u001b[1K\u001b[1K\u001b[1K\u001b[1K\u001b[1K\u001b[1K\u001b[1K\u001b[1K\u001b[1K\u001b[1K\u001b[1K\u001b[1K\u001b[1K\u001b[1K\u001b[1K\u001b[1K\u001b[1K\u001b[1K\u001b[1K\u001b[1K\u001b[1K\u001b[1K\u001b[1K\u001b[1K\u001b[1K\u001b[1K\u001b[1K\u001b[1K\u001b[1K\u001b[1K\u001b[1K\u001b[1K\u001b[1K\u001b[1K\u001b[1K\u001b[1K\u001b[1K\u001b[1K\u001b[1K\u001b[1K\u001b[1K\u001b[1K\u001b[1K\u001b[1K\u001b[1K\u001b[1K\u001b[1K\u001b[1K\u001b[1K\u001b[1K\u001b[1K\u001b[1K\u001b[1K\u001b[1K\u001b[1K\u001b[1K\u001b[1K\u001b[1K\u001b[1K\u001b[1K\u001b[1K\u001b[1K\u001b[1K\u001b[1K\u001b[1K\u001b[1K\u001b[1K\u001b[1K\u001b[1K\u001b[1K\u001b[1K\u001b[1K\u001b[1K\u001b[1K\u001b[1K\u001b[1K\u001b[1K\u001b[1K\u001b[1K\u001b[1K\u001b[1K\u001b[1K\u001b[1K\u001b[1K\u001b[1K\u001b[1K\u001b[1K\u001b[1K\u001b[1K\u001b[1K\u001b[1K\u001b[1K\u001b[1K\u001b[1K\u001b[1K\u001b[1K\u001b[1K\u001b[1K\u001b[1K\u001b[1K\u001b[1K\u001b[1K\u001b[1K\u001b[1K\u001b[1K\u001b[1K\u001b[1K\u001b[1K\u001b[1K\u001b[1K\u001b[1K\u001b[1K\u001b[1K\u001b[1K\u001b[1K\u001b[1K\u001b[1K\u001b[1K\u001b[1K\u001b[1K\u001b[1K\u001b[1K\u001b[1K\u001b[1K\u001b[1K\u001b[1K\u001b[1K\u001b[1K\u001b[1K\u001b[1K\u001b[1K\u001b[1K\u001b[1K\u001b[1K\u001b[1K\u001b[1K\u001b[1K\u001b[1K\u001b[1K\u001b[1K\u001b[1K\u001b[1K\u001b[1K\u001b[1K\u001b[1K\u001b[1K\u001b[1K\u001b[1K\u001b[1K\u001b[1K\u001b[1K\u001b[1K\u001b[1K\u001b[1K\u001b[1K\u001b[1K\u001b[1K\u001b[1K\u001b[1K\u001b[1K\u001b[1K\u001b[1K\u001b[1K\u001b[1K\u001b[1K\u001b[1K\u001b[1K\u001b[1K\u001b[1K\u001b[1K\u001b[1K\u001b[1K\u001b[1K\u001b[1K\u001b[1K\u001b[1K\u001b[1K\u001b[1K\u001b[1K\u001b[1K\u001b[1K\u001b[1K\u001b[1K\u001b[1K\u001b[1K\u001b[1K\u001b[1K\u001b[1K\u001b[1K\u001b[1K\u001b[1K\u001b[1K\u001b[1K\u001b[1K\u001b[1K\u001b[1K\u001b[1K\u001b[1K\u001b[1K\u001b[1K\u001b[1K\u001b[1K\u001b[1K\u001b[1K\u001b[1K\u001b[1K\u001b[1K\u001b[1K\u001b[1K\u001b[1K\u001b[1K\u001b[1K\u001b[1K\u001b[1K\u001b[1K\u001b[1K\u001b[1K\u001b[1K\u001b[1K\u001b[1K\u001b[1K\u001b[1K\u001b[1K\u001b[1K\u001b[1K\u001b[1K\u001b[1K\u001b[1K\u001b[1K\u001b[1K\u001b[1K\u001b[1K\u001b[1K\u001b[1K\u001b[1K\u001b[1K\u001b[1K\u001b[1K\u001b[1K\u001b[1K\u001b[1K\u001b[1K\u001b[1K\u001b[1K\u001b[1K\u001b[1K\u001b[1K\u001b[1K\u001b[1K\u001b[1K\u001b[1K\u001b[1K\u001b[1K\u001b[1K\u001b[1K\u001b[1K\u001b[1K\u001b[1K\u001b[1K\u001b[1K\u001b[1K\u001b[1K\u001b[1K\u001b[1K\u001b[1K\u001b[1K\u001b[1K\u001b[1K\u001b[1K\u001b[1K\u001b[1K\u001b[1K\u001b[1K\u001b[1K\u001b[1K\u001b[1K\u001b[1K\u001b[1K\u001b[1K\u001b[1K\u001b[1K\u001b[1K\u001b[1K\u001b[1K\u001b[1K\u001b[1K\u001b[1K\u001b[1K\u001b[1K\u001b[1K\u001b[1K\u001b[1K\u001b[1K\u001b[1K\u001b[1K\u001b[1K\u001b[1K\u001b[1K\u001b[1K\u001b[1K\u001b[1K\u001b[1K\u001b[1K\u001b[1K\u001b[1K\u001b[1K\u001b[1K\u001b[1K\u001b[1K\u001b[1K\u001b[1K\u001b[1K\u001b[1K\u001b[1K\u001b[1K\u001b[1K\u001b[1K\u001b[1K\u001b[1K\u001b[1K\u001b[1K\u001b[1K\u001b[1K\u001b[1K\u001b[1K\u001b[1K\u001b[1K\u001b[1K\u001b[1K\u001b[1K\u001b[1K\u001b[1K\u001b[1K\u001b[1K\u001b[1K\u001b[1K\u001b[1K\u001b[1K\u001b[1K\u001b[1K\u001b[1K\u001b[1K\u001b[1K\u001b[1K\u001b[1K\u001b[1K\u001b[1K\u001b[1K\u001b[1K\u001b[1K\u001b[1K\u001b[1K\u001b[1K\u001b[1K\u001b[1K\u001b[1K\u001b[1K\u001b[1K\u001b[1K\u001b[1K\u001b[1K\u001b[1K\u001b[1K\u001b[1K\u001b[1K\u001b[1K\u001b[1K\u001b[1K\u001b[1K\u001b[1K\u001b[1K\u001b[1K\u001b[1K\u001b[1K\u001b[1K\u001b[1K\u001b[1K\u001b[1K\u001b[1K\u001b[1K\u001b[1K\u001b[1K\u001b[1K\u001b[1K\u001b[1K\u001b[1K\u001b[1K\u001b[1K\u001b[1K\u001b[1K\u001b[1K\u001b[1K\u001b[1K\u001b[1K\u001b[1K\u001b[1K\u001b[1K\u001b[1K\u001b[1K\u001b[1K\u001b[1K\u001b[1K\u001b[1K\u001b[1K\u001b[1K\u001b[1K\u001b[1K\u001b[1K\u001b[1K\u001b[1K\u001b[1K\u001b[1K\u001b[1K\u001b[1K\u001b[1K\u001b[1K\u001b[1K\u001b[1K\u001b[1K\u001b[1K\u001b[1K\u001b[1K\u001b[1K\u001b[1K\u001b[1K\u001b[1K\u001b[1K\u001b[1K\u001b[1K\u001b[1K\u001b[1K\u001b[1K\u001b[1K\u001b[1K\u001b[1K\u001b[1K\u001b[1K\u001b[1K\u001b[1K\u001b[1K\u001b[1K\u001b[1K\u001b[1K\u001b[1K\u001b[1K\u001b[1K\u001b[1K\u001b[1K\u001b[1K\u001b[1K\u001b[1K\u001b[1K\u001b[1K\u001b[1K\u001b[1K\u001b[1K\u001b[1K\u001b[1K\u001b[1K\u001b[1K\u001b[1K\u001b[1K\u001b[1K\u001b[1K\u001b[1K\u001b[1K\u001b[1K\u001b[1K\u001b[1K\u001b[1K\u001b[1K\u001b[1K\u001b[1K\u001b[1K\u001b[1K\u001b[1K\u001b[1K\u001b[1K\u001b[1K\u001b[1K\u001b[1K\u001b[1K\u001b[1K\u001b[1K\u001b[1K\u001b[1K\u001b[1K\u001b[1K\u001b[1K\u001b[1K\u001b[1K\u001b[1K\u001b[1K\u001b[1K\u001b[1K\u001b[1K\u001b[1K\u001b[1K\u001b[1K\u001b[1K\u001b[1K\u001b[1K\u001b[1K\u001b[1K\u001b[1K\u001b[1K\u001b[1K\u001b[1K\u001b[1K\u001b[1K\u001b[1K\u001b[1K\u001b[1K\u001b[1K\u001b[1K\u001b[1K\u001b[1K\u001b[1K\u001b[1K\u001b[1K\u001b[1K\u001b[1K\u001b[1K\u001b[1K\u001b[1K\u001b[1K\u001b[1K\u001b[1K\u001b[1K\u001b[1K\u001b[1K\u001b[1K\u001b[1K\u001b[1K\u001b[1K\u001b[1K\u001b[1K\u001b[1K\u001b[1K\u001b[1K\u001b[1K\u001b[1K\u001b[1K\u001b[1K\u001b[1K\u001b[1K\u001b[1K\u001b[1K\u001b[1K\u001b[1K\u001b[1K\u001b[1K\u001b[1K\u001b[1K\u001b[1K\u001b[1K\u001b[1K\u001b[1K\u001b[1K\u001b[1K\u001b[1K\u001b[1K\u001b[1K\u001b[1K\u001b[1K\u001b[1K\u001b[1K\u001b[1K\u001b[1K\u001b[1K\u001b[1K\u001b[1K\u001b[1K\u001b[1K\u001b[1K\u001b[1K\u001b[1K\u001b[1K\u001b[1K\u001b[1K\u001b[1K\u001b[1K\u001b[1K\u001b[1K\u001b[1K\u001b[1K\u001b[1K\u001b[1K\u001b[1K\u001b[1K\u001b[1K\u001b[1K\u001b[1K\u001b[1K\u001b[1K\u001b[1K\u001b[1K\u001b[1K\u001b[1K\u001b[1K\u001b[1K\u001b[1K\u001b[1K\u001b[1K\u001b[1K\u001b[1K\u001b[1K\u001b[1K\u001b[1K\u001b[1K\u001b[1K\u001b[1K\u001b[1K\u001b[1K\u001b[1K\u001b[1K\u001b[1K\u001b[1K\u001b[1K\u001b[1K\u001b[1K\u001b[1K\u001b[1K\u001b[1K\u001b[1K\u001b[1K\u001b[1K\u001b[1K\u001b[1K\u001b[1K\u001b[1K\u001b[1K\u001b[1K\u001b[1K\u001b[1K\u001b[1K\u001b[1K\u001b[1K\u001b[1K\u001b[1K\u001b[1K\u001b[1K\u001b[1K\u001b[1K\u001b[1K\u001b[1K\u001b[1K\u001b[1K\u001b[1K\u001b[1K\u001b[1K\u001b[1K\u001b[1K\u001b[1K\u001b[1K\u001b[1K\u001b[1K\u001b[1K\u001b[1K\u001b[1K\u001b[1K\u001b[1K\u001b[1K\u001b[1K\u001b[1K\u001b[1K\u001b[1K\u001b[1K\u001b[1K\u001b[1K\u001b[1K\u001b[1K\u001b[1K\u001b[1K\u001b[1K\u001b[1K\u001b[1K\u001b[1K\u001b[1K\u001b[1K\u001b[1K\u001b[1K\u001b[1K\u001b[1K\u001b[1K\u001b[1K\u001b[1K\u001b[1K\u001b[1K\u001b[1K\u001b[1K\u001b[1K\u001b[1K\u001b[1K\u001b[1K\u001b[1K\u001b[1K\u001b[1K\u001b[1K\u001b[1K\u001b[1K\u001b[1K\u001b[1K\u001b[1K\u001b[1K\u001b[1K\u001b[1K\u001b[1K\u001b[1K\u001b[1K\u001b[1K\u001b[1K\u001b[1K\u001b[1K\u001b[1K\u001b[1K\u001b[1K\u001b[1K\u001b[1K\u001b[1K\u001b[1K\u001b[1K\u001b[1K\u001b[1K\u001b[1K\u001b[1K\u001b[1K\u001b[1K\u001b[1K\u001b[1K\u001b[1K\u001b[1K\u001b[1K\u001b[1K\u001b[1K\u001b[1K\u001b[1K\u001b[1K\u001b[1K\u001b[1K\u001b[1K\u001b[1K\u001b[1K\u001b[1K\u001b[1K\u001b[1K\u001b[1K\u001b[1K\u001b[1K\u001b[1K\u001b[1K\u001b[1K\u001b[1K\u001b[1K\u001b[1K\u001b[1K\u001b[1K\u001b[1K\u001b[1K\u001b[1K\u001b[1K\u001b[1K\u001b[1K\u001b[1K\u001b[1K\u001b[1K\u001b[1K\u001b[1K\u001b[1K\u001b[1K\u001b[1K\u001b[1K\u001b[1K\u001b[1K\u001b[1K\u001b[1K\u001b[1K\u001b[1K\u001b[1K\u001b[1K\u001b[1K\u001b[1K\u001b[1K\u001b[1K\u001b[1K\u001b[1K\u001b[1K\u001b[1K\u001b[1K\u001b[1K\u001b[1K\u001b[1K\u001b[1K\u001b[1K\u001b[1K\u001b[1K\u001b[1K\u001b[1K\u001b[1K\u001b[1K\u001b[1K\u001b[1K\u001b[1K\u001b[1K\u001b[1K\u001b[1K\u001b[1K\u001b[1K\u001b[1K\u001b[1K\u001b[1K\u001b[1K\u001b[1K\u001b[1K\u001b[1K\u001b[1K\u001b[1K\u001b[1K\u001b[1K\u001b[1K\u001b[1K\u001b[1K\u001b[1K\u001b[1K\u001b[1K\u001b[1K\u001b[1K\u001b[1K\u001b[1K\u001b[1K\u001b[1K\u001b[1K\u001b[1K\u001b[1K\u001b[1K\u001b[1K\u001b[1K\u001b[1K\u001b[1K\u001b[1K\u001b[1K\u001b[1K\u001b[1K\u001b[1K\u001b[1K\u001b[1K\u001b[1K\u001b[1K\u001b[1K\u001b[1K\u001b[1K\u001b[1K\u001b[1K\u001b[1K\u001b[1K\u001b[1K\u001b[1K\u001b[1K\u001b[1K\u001b[1K\u001b[1K\u001b[1K\u001b[1K\u001b[1K\u001b[1K\u001b[1K\u001b[1K\u001b[1K\u001b[1K\u001b[1K\u001b[1K\u001b[1K\u001b[1K\u001b[1K\u001b[1K\u001b[1K\u001b[1K\u001b[1K\u001b[1K\u001b[1K\u001b[1K\u001b[1K\u001b[1K\u001b[1K\u001b[1K\u001b[1K\u001b[1K\u001b[1K\u001b[1K\u001b[1K\u001b[1K\u001b[1K\u001b[1K\u001b[1K\u001b[1K\u001b[1K\u001b[1K\u001b[1K\u001b[1K\u001b[1K\u001b[1K\u001b[1K\u001b[1K\u001b[1K\u001b[1K\u001b[1K\u001b[1K\u001b[1K\u001b[1K\u001b[1K\u001b[1K\u001b[1K\u001b[1K\u001b[1K\u001b[1K\u001b[1K\u001b[1K\u001b[1K\u001b[1K\u001b[1K\u001b[1K\u001b[1K\u001b[1K\u001b[1K\u001b[1K\u001b[1K\u001b[1K\u001b[1K\u001b[1K\u001b[1K\u001b[1K\u001b[1K\u001b[1K\u001b[1K\u001b[1K\u001b[1K\u001b[1K\u001b[1K\u001b[1K\u001b[1K\u001b[1K\u001b[1K\u001b[1K\u001b[1K\u001b[1K\u001b[1K\u001b[1K\u001b[1K\u001b[1K\u001b[1K\u001b[1K\u001b[1K\u001b[1K\u001b[1K\u001b[1K\u001b[1K\u001b[1K\u001b[1K\u001b[1K\u001b[1K\u001b[1K\u001b[1K\u001b[1K\u001b[1K\u001b[1K\u001b[1K\u001b[1K\u001b[1K\u001b[1K\u001b[1K\u001b[1K\u001b[1K\u001b[1K\u001b[1K\u001b[1K\u001b[1K\u001b[1K\u001b[1K\u001b[1K\u001b[1K\u001b[1K\u001b[1K\u001b[1K\u001b[1K\u001b[1K\u001b[1K\u001b[1K\u001b[1K\u001b[1K\u001b[1K\u001b[1K\u001b[1K\u001b[1K\u001b[1K\u001b[1K\u001b[1K\u001b[1K\u001b[1K\u001b[1K\u001b[1K\u001b[1K\u001b[1K\u001b[1K\u001b[1K\u001b[1K\u001b[1K\u001b[1K\u001b[1K\u001b[1K\u001b[1K\u001b[1K\u001b[1K\u001b[1K\u001b[1K\u001b[1K\u001b[1K\u001b[1K\u001b[1K\u001b[1K\u001b[1K\u001b[1K\u001b[1K\u001b[1K\u001b[1K\u001b[1K\u001b[1K\u001b[1K\u001b[1K\u001b[1K\u001b[1K\u001b[1K\u001b[1K\u001b[1K\u001b[1K\u001b[1K\u001b[1K\u001b[1K\u001b[1K\u001b[1K\u001b[1K\u001b[1K\u001b[1K\u001b[1K\u001b[1K\u001b[1K\u001b[1K\u001b[1K\u001b[1K\u001b[1K\u001b[1K\u001b[1K\u001b[1K\u001b[1K\u001b[1K\u001b[1K\u001b[1K\u001b[1K\u001b[1K\u001b[1K\u001b[1K\u001b[1K\u001b[1K\u001b[1K\u001b[1K\u001b[1K\u001b[1K\u001b[1K\u001b[1K\u001b[1K\u001b[1K\u001b[1K\u001b[1K\u001b[1K\u001b[1K\u001b[1K\u001b[1K\u001b[1K\u001b[1K\u001b[1K\u001b[1K\u001b[1K\u001b[1K\u001b[1K\u001b[1K\u001b[1K\u001b[1K\u001b[1K\u001b[1K\u001b[1K\u001b[1K\u001b[1K\u001b[1K\u001b[1K\u001b[1K\u001b[1K\u001b[1K\u001b[1K\u001b[1K\u001b[1K\u001b[1K\u001b[1K\u001b[1K\u001b[1K\u001b[1K\u001b[1K\u001b[1K\u001b[1K\u001b[1K\u001b[1K\u001b[1K\u001b[1K\u001b[1K\u001b[1K\u001b[1K\u001b[1K\u001b[1K\u001b[1K\u001b[1K\u001b[1K\u001b[1K\u001b[1K\u001b[1K\u001b[1K\u001b[1K\u001b[1K\u001b[1K\u001b[1K\u001b[1K\u001b[1K\u001b[1K\u001b[1K\u001b[1K\u001b[1K\u001b[1K\u001b[1K\u001b[1K\u001b[1K\u001b[1K\u001b[1K\u001b[1K\u001b[1K\u001b[1K\u001b[1K\u001b[1K\u001b[1K\u001b[1K\u001b[1K\u001b[1K\u001b[1K\u001b[1K\u001b[1K\u001b[1K\u001b[1K\u001b[1K\u001b[1K\u001b[1K\u001b[1K\u001b[1K\u001b[1K\u001b[1K\u001b[1K\u001b[1K\u001b[1K\u001b[1K\u001b[1K\u001b[1K\u001b[1K\u001b[1K\u001b[1K\u001b[1K\u001b[1K\u001b[1K\u001b[1K\u001b[1K\u001b[1K\u001b[1K\u001b[1K\u001b[1K\u001b[1K\u001b[1K\u001b[1K\u001b[1K\u001b[1K\u001b[1K\u001b[1K\u001b[1K\u001b[1K\u001b[1K\u001b[1K\u001b[1K\u001b[1K\u001b[1K\u001b[1K\u001b[1K\u001b[1K\u001b[1K\u001b[1K\u001b[1K\u001b[1K\u001b[1K\u001b[1K\u001b[1K\u001b[1K\u001b[1K\u001b[1K\u001b[1K\u001b[1K\u001b[1K\u001b[1K\u001b[1K\u001b[1K\u001b[1K\u001b[1K\u001b[1K\u001b[1K\u001b[1K\u001b[1K\u001b[1K\u001b[1K\u001b[1K\u001b[1K\u001b[1K\u001b[1K\u001b[1K\u001b[1K\u001b[1K\u001b[1K\u001b[1K\u001b[1K\u001b[1K\u001b[1K\u001b[1K\u001b[1K\u001b[1K\u001b[1K\u001b[1K\u001b[1K\u001b[1K\u001b[1K\u001b[1K\u001b[1K\u001b[1K\u001b[1K\u001b[1K\u001b[1K\u001b[1K\u001b[1K\u001b[1K\u001b[1K\u001b[1K\u001b[1K\u001b[1K\u001b[1K\u001b[1K\u001b[1K\u001b[1K\u001b[1K\u001b[1K\u001b[1K\u001b[1K\u001b[1K\u001b[1K\u001b[1K\u001b[1K\u001b[1K\u001b[1K\u001b[1K\u001b[1K\u001b[1K\u001b[1K\u001b[1K\u001b[1K\u001b[1K\u001b[1K\u001b[1K\u001b[1K\u001b[1K\u001b[1K\u001b[1K\u001b[1K\u001b[1K\u001b[1K\u001b[1K\u001b[1K\u001b[1K\u001b[1K\u001b[1K\u001b[1K\u001b[1K\u001b[1K\u001b[1K\u001b[1K\u001b[1K\u001b[1K\u001b[1K\u001b[1K\u001b[1K\u001b[1K\u001b[1K\u001b[1K\u001b[1K\u001b[1K\u001b[1K\u001b[1K\u001b[1K\u001b[1K\u001b[1K\u001b[1K\u001b[1K\u001b[1K\u001b[1K\u001b[1K\u001b[1K\u001b[1K\u001b[1K\u001b[1K\u001b[1K\u001b[1K\u001b[1K\u001b[1K\u001b[1K\u001b[1K\u001b[1K\u001b[1K\u001b[1K\u001b[1K\u001b[1K\u001b[1K\u001b[1K\u001b[1K\u001b[1K\u001b[1K\u001b[1K\u001b[1K\u001b[1K\u001b[1K\u001b[1K\u001b[1K\u001b[1K\u001b[1K\u001b[1K\u001b[1K\u001b[1K\u001b[1K\u001b[1K\u001b[1K\u001b[1K\u001b[1K\u001b[1K\u001b[1K\u001b[1K\u001b[1K\u001b[1K\u001b[1K\u001b[1K\u001b[1K\u001b[1K\u001b[1K\u001b[1K\u001b[1K\u001b[1K\u001b[1K\u001b[1K\u001b[1K\u001b[1K\u001b[1K\u001b[1K\u001b[1K\u001b[1K\u001b[1K\u001b[1K\u001b[1K\u001b[1K\u001b[1K\u001b[1K\u001b[1K\u001b[1K\u001b[1K\u001b[1K\u001b[1K\u001b[1K\u001b[1K\u001b[1K\u001b[1K\u001b[1K\u001b[1K\u001b[1K\u001b[1K\u001b[1K\u001b[1K\u001b[1K\u001b[1K\u001b[1K\u001b[1K\u001b[1K\u001b[1K\u001b[1K\u001b[1K\u001b[1K\u001b[1K\u001b[1K\u001b[1K\u001b[1K\u001b[1K\u001b[1K\u001b[1K\u001b[1K\u001b[1K\u001b[1K\u001b[1K\u001b[1K\u001b[1K\u001b[1K\u001b[1K\u001b[1K\u001b[1K\u001b[1K\u001b[1K\u001b[1K\u001b[1K\u001b[1K\u001b[1K\u001b[1K\u001b[1K\u001b[1K\u001b[1K\u001b[1K\u001b[1K\u001b[1K\u001b[1K\u001b[1K\u001b[1K\u001b[1K\u001b[1K\u001b[1K\u001b[1K\u001b[1K\u001b[1K\u001b[1K\u001b[1K\u001b[1K\u001b[1K\u001b[1K\u001b[1K\u001b[1K\u001b[1K\u001b[1K\u001b[1K\u001b[1K\u001b[1K\u001b[1K\u001b[1K\u001b[1K\u001b[1K\u001b[1K\u001b[1K\u001b[1K\u001b[1K\u001b[1K\u001b[1K\u001b[1K\u001b[1K\u001b[1K\u001b[1K\u001b[1K\u001b[1K\u001b[1K\u001b[1K\u001b[1K\u001b[1K\u001b[1K\u001b[1K\u001b[1K\u001b[1K\u001b[1K\u001b[1K\u001b[1K\u001b[1K\u001b[1K\u001b[1K\u001b[1K\u001b[1K\u001b[1K\u001b[1K\u001b[1K\u001b[1K\u001b[1K\u001b[1K\u001b[1K\u001b[1K\u001b[1K\u001b[1K\u001b[1K\u001b[1K\u001b[1K\u001b[1K\u001b[1K\u001b[1K\u001b[1K\u001b[1K\u001b[1K\u001b[1K\u001b[1K\u001b[1K\u001b[1K\u001b[1K\u001b[1K\u001b[1K\u001b[1K\u001b[1K\u001b[1K\u001b[1K\u001b[1K\u001b[1K\u001b[1K\u001b[1K\u001b[1K\u001b[1K\u001b[1K\u001b[1K\u001b[1K\u001b[1K\u001b[1K\u001b[1K\u001b[1K\u001b[1K\u001b[1K\u001b[1K\u001b[1K\u001b[1K\u001b[1K\u001b[1K\u001b[1K\u001b[1K\u001b[1K\u001b[1K\u001b[1K\u001b[1K\u001b[1K\u001b[1K\u001b[1K\u001b[1K\u001b[1K\u001b[1K\u001b[1K\u001b[1K\u001b[1K\u001b[1K\u001b[1K\u001b[1K\u001b[1K\u001b[1K\u001b[1K\u001b[1K\u001b[1K\u001b[1K\u001b[1K\u001b[1K\u001b[1K\u001b[1K\u001b[1K\u001b[1K\u001b[1K\u001b[1K\u001b[1K\u001b[1K\u001b[1K\u001b[1K\u001b[1K\u001b[1K\u001b[1K\u001b[1K\u001b[1K\u001b[1K\u001b[1K\u001b[1K\u001b[1K\u001b[1K\u001b[1K\u001b[1K\u001b[1K\u001b[1K\u001b[1K\u001b[1K\u001b[1K\u001b[1K\u001b[1K\u001b[1K\u001b[1K\u001b[1K\u001b[1K\u001b[1K\u001b[1K\u001b[1K\u001b[1K\u001b[1K\u001b[1K\u001b[1K\u001b[1K\u001b[1K\u001b[1K\u001b[1K\u001b[1K\u001b[1K\u001b[1K\u001b[1K\u001b[1K\u001b[1K\u001b[1K\u001b[1K\u001b[1K\u001b[1K\u001b[1K\u001b[1K\u001b[1K\u001b[1K\u001b[1K\u001b[1K\u001b[1K\u001b[1K\u001b[1K\u001b[1K\u001b[1K\u001b[1K\u001b[1K\u001b[1K\u001b[1K\u001b[1K\u001b[1K\u001b[1K\u001b[1K\u001b[1K\u001b[1K\u001b[1K\u001b[1K\u001b[1K\u001b[1K\u001b[1K\u001b[1K\u001b[1K\u001b[1K\u001b[1K\u001b[1K\u001b[1K\u001b[1K\u001b[1K\u001b[1K\u001b[1K\u001b[1K\u001b[1K\u001b[1K\u001b[1K\u001b[1K\u001b[1K\u001b[1K\u001b[1K\u001b[1K\u001b[1K\u001b[1K\u001b[1K\u001b[1K\u001b[1K\u001b[1K\u001b[1K\u001b[1K\u001b[1K\u001b[1K\u001b[1K\u001b[1K\u001b[1K\u001b[1K\u001b[1K\u001b[1K\u001b[1K\u001b[1K\u001b[1K\u001b[1K\u001b[1K\u001b[1K\u001b[1K\u001b[1K\u001b[1K\u001b[1K\u001b[1K\u001b[1K\u001b[1K\u001b[1K\u001b[1K\u001b[1K\u001b[1K\u001b[1K\u001b[1K\u001b[1K\u001b[1K\u001b[1K\u001b[1K\u001b[1K\u001b[1K\u001b[1K\u001b[1K\u001b[1K\u001b[1K\u001b[1K\u001b[1K\u001b[1K\u001b[1K\u001b[1K\u001b[1K\u001b[1K\u001b[1K\u001b[1K\u001b[1K\u001b[1K\u001b[1K\u001b[1K\u001b[1K\u001b[1K\u001b[1K\u001b[1K\u001b[1K\u001b[1K\u001b[1K\u001b[1K\u001b[1K\u001b[1K\u001b[1K\u001b[1K\u001b[1K\u001b[1K\u001b[1K\u001b[1K\u001b[1K\u001b[1K\u001b[1K\u001b[1K\u001b[1K\u001b[1K\u001b[1K\u001b[1K\u001b[1K\u001b[1K\u001b[1K\u001b[1K\u001b[1K\u001b[1K\u001b[1K\u001b[1K\u001b[1K\u001b[1K\u001b[1K\u001b[1K\u001b[1K\u001b[1K\u001b[1K\u001b[1K\u001b[1K\u001b[1K\u001b[1K\u001b[1K\u001b[1K\u001b[1K\u001b[1K\u001b[1K\u001b[1K\u001b[1K\u001b[1K\u001b[1K\u001b[1K\u001b[1K\u001b[1K\u001b[1K\u001b[1K\u001b[1K\u001b[1K\u001b[1K\u001b[1K\u001b[1K\u001b[1K\u001b[1K\u001b[1K\u001b[1K\u001b[1K\u001b[1K\u001b[1K\u001b[1K\u001b[1K\u001b[1K\u001b[1K\u001b[1K\u001b[1K\u001b[1K\u001b[1K\u001b[1K\u001b[1K\u001b[1K\u001b[1K\u001b[1K\u001b[1K\u001b[1K\u001b[1K\u001b[1K\u001b[1K\u001b[1K\u001b[1K\u001b[1K\u001b[1K\u001b[1K\u001b[1K\u001b[1K\u001b[1K\u001b[1K\u001b[1K\u001b[1K\u001b[1K\u001b[1K\u001b[1K\u001b[1K\u001b[1K\u001b[1K\u001b[1K\u001b[1K\u001b[1K\u001b[1K\u001b[1K\u001b[1K\u001b[1K\u001b[1K\u001b[1K\u001b[1K\u001b[1K\u001b[1K\u001b[1K\u001b[1K\u001b[1K\u001b[1K\u001b[1K\u001b[1K\u001b[1K\u001b[1K\u001b[1K\u001b[1K\u001b[1K\u001b[1K\u001b[1K\u001b[1K\u001b[1K\u001b[1K\u001b[1K\u001b[1K\u001b[1K\u001b[1K\u001b[1K\u001b[1K\u001b[1K\u001b[1K\u001b[1K\u001b[1K\u001b[1K\u001b[1K\u001b[1K\u001b[1K\u001b[1K\u001b[1K\u001b[1K\u001b[1K\u001b[1K\u001b[1K\u001b[1K\u001b[1K\u001b[1K\u001b[1K\u001b[1K\u001b[1K\u001b[1K\u001b[1K\u001b[1K\u001b[1K\u001b[1K\u001b[1K\u001b[1K\u001b[1K\u001b[1K\u001b[1K\u001b[1K\u001b[1K\u001b[1K\u001b[1K\u001b[1K\u001b[1K\u001b[1K\u001b[1K\u001b[1K\u001b[1K\u001b[1K\u001b[1K\u001b[1K\u001b[1K\u001b[1K\u001b[1K\u001b[1K\u001b[1K\u001b[1K\u001b[1K\u001b[1K\u001b[1K\u001b[1K\u001b[1K\u001b[1K\u001b[1K\u001b[1K\u001b[1K\u001b[1K\u001b[1K\u001b[1K\u001b[1K\u001b[1K\u001b[1K\u001b[1K\u001b[1K\u001b[1K\u001b[1K\u001b[1K\u001b[1K\u001b[1K\u001b[1K\u001b[1K\u001b[1K\u001b[1K\u001b[1K\u001b[1K\u001b[1K\u001b[1K\u001b[1K\u001b[1K\u001b[1K\u001b[1K\u001b[1K\u001b[1K\u001b[1K\u001b[1K\u001b[1K\u001b[1K\u001b[1K\u001b[1K\u001b[1K\u001b[1K\u001b[1K\u001b[1K\u001b[1K\u001b[1K\u001b[1K\u001b[1K\u001b[1K\u001b[1K\u001b[1K\u001b[1K\u001b[1K\u001b[1K\u001b[1K\u001b[1K\u001b[1K\u001b[1K\u001b[1K\u001b[1K\u001b[1K\u001b[1K\u001b[1K\u001b[1K\u001b[1K\u001b[1K\u001b[1K\u001b[1K\u001b[1K\u001b[1K\u001b[1K\u001b[1K\u001b[1K\u001b[1K\u001b[1K\u001b[1K\u001b[1K\u001b[1K\u001b[1K\u001b[1K\u001b[1K\u001b[1K\u001b[1K\u001b[1K\u001b[1K\u001b[1K\u001b[1K\u001b[1K\u001b[1K\u001b[1K\u001b[1K\u001b[1K\u001b[1K\u001b[1K\u001b[1K\u001b[1K\u001b[1K\u001b[1K\u001b[1K\u001b[1K\u001b[1K\u001b[1K\u001b[1K\u001b[1K\u001b[1K\u001b[1K\u001b[1K\u001b[1K\u001b[1K\u001b[1K\u001b[1K\u001b[1K\u001b[1K\u001b[1K\u001b[1K\u001b[1K\u001b[1K\u001b[1K\u001b[1K\u001b[1K\u001b[1K\u001b[1K\u001b[1K\u001b[1K\u001b[1K\u001b[1K\u001b[1K\u001b[1K\u001b[1K\u001b[1K\u001b[1K\u001b[1K\u001b[1K\u001b[1K\u001b[1K\u001b[1K\u001b[1K\u001b[1K\u001b[1K\u001b[1K\u001b[1K\u001b[1K\u001b[1K\u001b[1K\u001b[1K\u001b[1K\u001b[1K\u001b[1K\u001b[1K\u001b[1K\u001b[1K\u001b[1K\u001b[1K\u001b[1K\u001b[1K\u001b[1K\u001b[1K\u001b[1K\u001b[1K\u001b[1K\u001b[1K\u001b[1K\u001b[1K\u001b[1K\u001b[1K\u001b[1K\u001b[1K\u001b[1K\u001b[1K\u001b[1K\u001b[1K\u001b[1K\u001b[1K\u001b[1K\u001b[1K\u001b[1K\u001b[1K\u001b[1K\u001b[1K\u001b[1K\u001b[1K\u001b[1K\u001b[1K\u001b[1K\u001b[1K\u001b[1K\u001b[1K\u001b[1K\u001b[1K\u001b[1K\u001b[1K\u001b[1K\u001b[1K\u001b[1K\u001b[1K\u001b[1K\u001b[1K\u001b[1K\u001b[1K\u001b[1K\u001b[1K\u001b[1K\u001b[1K\u001b[1K\u001b[1K\u001b[1K\u001b[1K\u001b[1K\u001b[1K\u001b[1K\u001b[1K\u001b[1K\u001b[1K\u001b[1K\u001b[1K\u001b[1K\u001b[1K\u001b[1K\u001b[1K\u001b[1K\u001b[1K\u001b[1K\u001b[1K\u001b[1K\u001b[1K\u001b[1K\u001b[1K\u001b[1K\u001b[1K\u001b[1K\u001b[1K\u001b[1K\u001b[1K\u001b[1K\u001b[1K\u001b[1K\u001b[1K\u001b[1K\u001b[1K\u001b[1K\u001b[1K\u001b[1K\u001b[1K\u001b[1K\u001b[1K\u001b[1K\u001b[1K\u001b[1K\u001b[1K\u001b[1K\u001b[1K\u001b[1K\u001b[1K\u001b[1K\u001b[1K\u001b[1K\u001b[1K\u001b[1K\u001b[1K\u001b[1K\u001b[1K\u001b[1K\u001b[1K\u001b[1K\u001b[1K\u001b[1K\u001b[1K\u001b[1K\u001b[1K\u001b[1K\u001b[1K\u001b[1K\u001b[1K\u001b[1K\u001b[1K\u001b[1K\u001b[1K\u001b[1K\u001b[1K\u001b[1K\u001b[1K\u001b[1K\u001b[1K\u001b[1K\u001b[1K\u001b[1K\u001b[1K\u001b[1K\u001b[1K\u001b[1K\u001b[1K\u001b[1K\u001b[1K\u001b[1K\u001b[1K\u001b[1K\u001b[1K\u001b[1K\u001b[1K\u001b[1K\u001b[1K\u001b[1K\u001b[1K\u001b[1K\u001b[1K\u001b[1K\u001b[1K\u001b[1K\u001b[1K\u001b[1K\u001b[1K\u001b[1K\u001b[1K\u001b[1K\u001b[1K\u001b[1K\u001b[1K\u001b[1K\u001b[1K\u001b[1K\u001b[1K\u001b[1K\u001b[1K\u001b[1K\u001b[1K\u001b[1K\u001b[1K\u001b[1K\u001b[1K\u001b[1K\u001b[1K\u001b[1K\u001b[1K\u001b[1K\u001b[1K\u001b[1K\u001b[1K\u001b[1K\u001b[1K\u001b[1K\u001b[1K\u001b[1K\u001b[1K\u001b[1K\u001b[1K\u001b[1K\u001b[1K\u001b[1K\u001b[1K\u001b[1K\u001b[1K\u001b[1K\u001b[1K\u001b[1K\u001b[1K\u001b[1K\u001b[1K\u001b[1K\u001b[1K\u001b[1K\u001b[1K\u001b[1K\u001b[1K\u001b[1K\u001b[1K\u001b[1K\u001b[1K\u001b[1K\u001b[1K\u001b[1K\u001b[1K\u001b[1K\u001b[1K\u001b[1K\u001b[1K\u001b[1K\u001b[1K\u001b[1K\u001b[1K\u001b[1K\u001b[1K\u001b[1K\u001b[1K\u001b[1K\u001b[1K\u001b[1K\u001b[1K\u001b[1K\u001b[1K\u001b[1K\u001b[1K\u001b[1K\u001b[1K\u001b[1K\u001b[1K\u001b[1K\u001b[1K\u001b[1K\u001b[1K\u001b[1K\u001b[1K\u001b[1K\u001b[1K\u001b[1K\u001b[1K\u001b[1K\u001b[1K\u001b[1K\u001b[1K\u001b[1K\u001b[1K\u001b[1K\u001b[1K\u001b[1K\u001b[1K\u001b[1K\u001b[1K\u001b[1K\u001b[1K\u001b[1K\u001b[1K\u001b[1K\u001b[1K\u001b[1K\u001b[1K\u001b[1K\u001b[1K\u001b[1K\u001b[1K\u001b[1K\u001b[1K\u001b[1K\u001b[1K\u001b[1K\u001b[1K\u001b[1K\u001b[1K\u001b[1K\u001b[1K\u001b[1K\u001b[1K\u001b[1K\u001b[1K\u001b[1K\u001b[1K\u001b[1K\u001b[1K\u001b[1K\u001b[1K\u001b[1K\u001b[1K\u001b[1K\u001b[1K\u001b[1K\u001b[1K\u001b[1K\u001b[1K\u001b[1K\u001b[1K\u001b[1K\u001b[1K\u001b[1K\u001b[1K\u001b[1K\u001b[1K\u001b[1K\u001b[1K\u001b[1K\u001b[1K\u001b[1K\u001b[1K\u001b[1K\u001b[1K\u001b[1K\u001b[1K\u001b[1K\u001b[1K\u001b[1K\u001b[1K\u001b[1K\u001b[1K\u001b[1K\u001b[1K\u001b[1K\u001b[1K\u001b[1K\u001b[1K\u001b[1K\u001b[1K\u001b[1K\u001b[1K\u001b[1K\u001b[1K\u001b[1K\u001b[1K\u001b[1K\u001b[1K\u001b[1K\u001b[1K\u001b[1K\u001b[1K\u001b[1K\u001b[1K\u001b[1K\u001b[1K\u001b[1K\u001b[1K\u001b[1K\u001b[1K\u001b[1K\u001b[1K\u001b[1K\u001b[1K\u001b[1K\u001b[1K\u001b[1K\u001b[1K\u001b[1K\u001b[1K\u001b[1K\u001b[1K\u001b[1K\u001b[1K\u001b[1K\u001b[1K\u001b[1K\u001b[1K\u001b[1K\u001b[1K\u001b[1K\u001b[1K\u001b[1K\u001b[1K\u001b[1K\u001b[1K\u001b[1K\u001b[1K\u001b[1K\u001b[1K\u001b[1K\u001b[1K\u001b[1K\u001b[1K\u001b[1K\u001b[1K\u001b[1K\u001b[1K\u001b[1K\u001b[1K\u001b[1K\u001b[1K\u001b[1K\u001b[1K\u001b[1K\u001b[1K\u001b[1K\u001b[1K\u001b[1K\u001b[1K\u001b[1K\u001b[1K\u001b[1K\u001b[1K\u001b[1K\u001b[1K\u001b[1K\u001b[1K\u001b[1K\u001b[1K\u001b[1K\u001b[1K\u001b[1K\u001b[1K\u001b[1K\u001b[1K\u001b[1K\u001b[1K\u001b[1K\u001b[1K\u001b[1K\u001b[1K\u001b[1K\u001b[1K\u001b[1K\u001b[1K\u001b[1K\u001b[1K\u001b[1K\u001b[1K\u001b[1K\u001b[1K\u001b[1K\u001b[1K\u001b[?25h\n"
     ]
    }
   ],
   "source": [
    "!mpv Lineare_Klassifikationsmodelle.mp4 2>&1 1>/dev/null"
   ]
  },
  {
   "cell_type": "code",
   "execution_count": 2,
   "metadata": {
    "id": "qSGEB3UkxF0L",
    "scrolled": true
   },
   "outputs": [],
   "source": [
    "import urllib.request\n",
    "import pandas as pd\n",
    "import numpy as np\n",
    "# for auto-reloading external modules\n",
    "# see http://stackoverflow.com/questions/1907993/autoreload-of-modules-in-ipython\n",
    "%load_ext autoreload\n",
    "%autoreload 2\n",
    "\n",
    "testfile = urllib.request.URLopener()\n",
    "testfile.retrieve(\"http://archive.ics.uci.edu/ml/machine-learning-databases/spect/SPECT.train\", \"SPECT.train\")\n",
    "testfile.retrieve(\"http://archive.ics.uci.edu/ml/machine-learning-databases/spect/SPECT.test\", \"SPECT.test\")\n",
    "\n",
    "df_train = pd.read_csv('SPECT.train',header=None)\n",
    "df_test = pd.read_csv('SPECT.test',header=None)\n",
    "\n",
    "train = df_train.values\n",
    "test = df_test.values\n",
    "\n",
    "y_train = train[:,0]\n",
    "X_train = train[:,1:]\n",
    "y_test = test[:,0]\n",
    "X_test = test[:,1:]"
   ]
  },
  {
   "cell_type": "markdown",
   "metadata": {
    "id": "DBPhAtmexF0N"
   },
   "source": [
    "### Exercise 1\n",
    "\n",
    "Analyze the function `learn_reg_ERM`$({\\color{RawSienna}\\mathrm{X}},{\\color{Lavender}\\mathrm{y}},\\mathrm{\\color{Tomato}\\lambda})$ which for a given $n\\times m$ data matrix ${\\color{RawSienna}X}$ and binary class label ${{\\color{Lavender}y}}$ learns and returns a linear model ${\\color{LimeGreen}\\theta}={\\color{LimeGreen}w}$.\n",
    "The binary class label has to be transformed so that its range is ${{\\color{Lavender}y}}\\in\\left \\{-1,1 \\right \\}$. \n",
    "The trade-off parameter between the empirical loss and the regularizer is given by ${\\color{Tomato}\\lambda} > 0$. \n",
    "To adapt the learning rate the Barzilai-Borwein method is used.\n",
    "\n",
    "Try to understand each step of the learning algorithm and comment each line.\n"
   ]
  },
  {
   "cell_type": "code",
   "execution_count": null,
   "metadata": {
    "id": "1-HgTxIQxF0N"
   },
   "outputs": [],
   "source": [
    "def learn_reg_ERM(X,y,lbda):\n",
    "    max_iter = 200 # number of iterations\n",
    "    e  = 0.001 # deviation \n",
    "    alpha = 1. # step size\n",
    "\n",
    "    w = np.random.randn(X.shape[1]) # parameters of the model\n",
    "    for k in np.arange(max_iter):\n",
    "        h = np.dot(X,w) # dot product between the data vector and modell vector w\n",
    "        l,lg = loss(h, y) # loss function output: loss function and gradient of loss function\n",
    "        print ('loss: {}'.format(np.mean(l)))\n",
    "        r,rg = reg(w, lbda) # regulazier function output: regulazier function and gradient of regulazier function\n",
    "        g = np.dot(X.T,lg) + rg # gradient of the sum of the gradients of loss function and regulazier function\n",
    "        if (k > 0):\n",
    "            alpha = alpha * ( np.dot(g_old.T, g_old ) )/ ( np.dot((g_old - g).T , g_old ) ) \n",
    "        w = w - alpha * g # compute the new parameters w or theta\n",
    "        if (np.linalg.norm(alpha * g) < e):\n",
    "            break\n",
    "        g_old = g\n",
    "    return w"
   ]
  },
  {
   "cell_type": "markdown",
   "metadata": {
    "id": "l1CmQjDhxF0O"
   },
   "source": [
    "### Exercise 2\n",
    "\n",
    "Fill in the code for the function `loss`$({\\color{CornflowerBlue}h},{\\color{Lavender}y}_{\\color{VioletRed}i})$ which computes the hinge loss ${\\color{CornflowerBlue}l}_\\mathrm{h}=\\mathrm{\\color{CornflowerBlue}l}$ and its gradient ${\\color{CornflowerBlue}\\nabla l}=\\mathrm{\\color{CornflowerBlue}g}$. \n",
    "This function takes a given vector ${\\color{Lavender}y}$ with the true labels ${{\\color{Lavender}y}}_{\\color{VioletRed}i}\\in \\left \\{-1,1\\right \\}$ and a vector ${\\color{CornflowerBlue}h}={\\color{CornflowerBlue}f}({\\color{LimeGreen}w},{\\color{Lavender}y}_{\\color{VioletRed}i})$ with the function values of the linear model as inputs. The function returns a vector $\\mathrm{\\color{CornflowerBlue}l}$ with the hinge loss \n",
    "\n",
    "$${\\color{CornflowerBlue}l}_\\mathrm{h}=\\mathrm{\\color{CornflowerBlue}l}={\\color{CornflowerBlue}\\max}(0, (1 − {{\\color{Lavender}y}}_{\\color{VioletRed}i} {\\color{CornflowerBlue}h}_{\\color{VioletRed}i}))$$\n",
    "\n",
    "and a vector $\\mathrm{\\color{CornflowerBlue}g}$ with the gradients of the hinge loss with respect to ${\\color{CornflowerBlue}h}$. \n",
    "\n",
    "Note: The partial derivative of the hinge loss with respect to ${\\color{CornflowerBlue}h}$  is \n",
    "\n",
    "$$\n",
    "{\\color{CornflowerBlue}\\nabla l}=\\mathrm{\\color{CornflowerBlue}g}= \\;\n",
    "\\begin{aligned}\n",
    "{\\color{CornflowerBlue}g}_{\\color{VioletRed}i} & = −{\\color{Lavender}y} & \\mathrm{if} \\; {\\color{CornflowerBlue}l}_{\\color{VioletRed}i} > 0, \\\\\n",
    "{\\color{CornflowerBlue}g}_{\\color{VioletRed}i} & = 0  & \\mathrm{else} \n",
    "\\end{aligned}\n",
    "$$"
   ]
  },
  {
   "cell_type": "code",
   "execution_count": 7,
   "metadata": {
    "id": "Vct3IsAYxF0O"
   },
   "outputs": [],
   "source": [
    "def loss(h, y):\n",
    "    ##################\n",
    "    #INSERT CODE HERE#\n",
    "    ##################\n",
    "    l=np.zeros(len(y))\n",
    "    g=np.zeros(len(y))\n",
    "    for i in range(len(y)):\n",
    "        if 1-y[i]*h[i]>0:\n",
    "            l[i]=1-y[i]*h[i]\n",
    "            g[i]=-y[i]\n",
    "        else:\n",
    "            l[i]=0\n",
    "            g[i]=0\n",
    "    return l, g"
   ]
  },
  {
   "cell_type": "markdown",
   "metadata": {
    "id": "OmdwcNAaxF0P"
   },
   "source": [
    "### Exercise 3\n",
    "\n",
    "Fill in the code for the function `reg`$({\\color{LimeGreen}w}, {\\color{Tomato}\\lambda})={\\color{CornflowerBlue}\\Omega}({\\color{LimeGreen}w}, {\\color{Tomato}\\lambda})$ which computes the $\\mathcal{L}_2$-regularizer${\\color{CornflowerBlue}\\Omega}({\\color{LimeGreen}w}, {\\color{Tomato}\\lambda})= \\mathrm{\\color{CornflowerBlue}r} $ and the gradient ${\\color{CornflowerBlue}\\nabla \\Omega}({\\color{LimeGreen}w}, {\\color{Tomato}\\lambda})= \\mathrm{\\color{CornflowerBlue}g}$ of the regularizer function at point ${\\color{LimeGreen}w}$.\n",
    "\n",
    "$$ \\mathrm{\\color{CornflowerBlue}r} = \\frac{\\color{Tomato}\\lambda}{2} {\\color{LimeGreen}w}^{\\mathrm{T}}{\\color{LimeGreen}w}$$\n",
    "\n",
    "$$\\mathrm{\\color{CornflowerBlue}g} = {\\color{Tomato}\\lambda} {\\color{LimeGreen}w}$$"
   ]
  },
  {
   "cell_type": "code",
   "execution_count": 8,
   "metadata": {
    "id": "CEsrqBTfxF0P"
   },
   "outputs": [],
   "source": [
    "def reg(w, lbda):\n",
    "    ##################\n",
    "    #INSERT CODE HERE#\n",
    "    ##################\n",
    "    r = lbda/2*np.dot(w,w)\n",
    "    g = ldba*w\n",
    "    return r, g"
   ]
  },
  {
   "cell_type": "markdown",
   "metadata": {
    "id": "HXlyhFPmxF0Q"
   },
   "source": [
    "### Exercise 4\n",
    "\n",
    "Fill in the code for the function `predict`$({\\color{LimeGreen}\\mathrm{w}}, {\\color{RawSienna}\\mathrm{x}})$ which predicts the class label ${\\color{Lavender}\\mathrm{y}}$ for a data point ${\\color{RawSienna}\\mathrm{x}}$ or a matrix ${\\color{RawSienna}\\mathrm{X}}$ of data points (row-wise) for a previously trained linear model ${\\color{LimeGreen}\\mathrm{w}}$. If there is only a data point given, the function is supposed to return a scalar value. If a matrix is given a vector of predictions is supposed to be returned."
   ]
  },
  {
   "cell_type": "code",
   "execution_count": null,
   "metadata": {
    "id": "bnKXor1NxF0Q"
   },
   "outputs": [],
   "source": [
    "def predict(w, X):\n",
    "    ##################\n",
    "    #INSERT CODE HERE#\n",
    "    ##################\n",
    "    return preds"
   ]
  },
  {
   "cell_type": "markdown",
   "metadata": {
    "id": "ltgVMtXIxF0R"
   },
   "source": [
    "### Exercise 5\n",
    "\n",
    "#### 5.1 \n",
    "Train a linear model on the training data and classify all 187 test instances afterwards using the function predict. \n",
    "Please note that the given class labels are in the range $\\left \\{0,1 \\right \\}$, however the learning algorithm expects a label in the range of $\\left \\{-1,1 \\right \\}$. Then, compute the accuracy of your trained linear model on both the training and the test data. "
   ]
  },
  {
   "cell_type": "code",
   "execution_count": null,
   "metadata": {
    "id": "LqdCXWWYxF0R"
   },
   "outputs": [],
   "source": [
    "##################\n",
    "#INSERT CODE HERE#\n",
    "##################"
   ]
  },
  {
   "cell_type": "markdown",
   "metadata": {
    "id": "IFdpQNg3xF0S"
   },
   "source": [
    "#### 5.2\n",
    "Compare the accuracy of the linear model with the accuracy of a random forest and a decision tree on the training and test data set."
   ]
  },
  {
   "cell_type": "code",
   "execution_count": null,
   "metadata": {
    "id": "l_u_jEmXxF0T"
   },
   "outputs": [],
   "source": [
    "##################\n",
    "#INSERT CODE HERE#\n",
    "##################"
   ]
  }
 ],
 "metadata": {
  "colab": {
   "name": "Lab06_LinearClassification.ipynb",
   "provenance": []
  },
  "kernelspec": {
   "display_name": "Python 3 (ipykernel)",
   "language": "python",
   "name": "python3"
  },
  "language_info": {
   "codemirror_mode": {
    "name": "ipython",
    "version": 3
   },
   "file_extension": ".py",
   "mimetype": "text/x-python",
   "name": "python",
   "nbconvert_exporter": "python",
   "pygments_lexer": "ipython3",
   "version": "3.10.14"
  }
 },
 "nbformat": 4,
 "nbformat_minor": 4
}
