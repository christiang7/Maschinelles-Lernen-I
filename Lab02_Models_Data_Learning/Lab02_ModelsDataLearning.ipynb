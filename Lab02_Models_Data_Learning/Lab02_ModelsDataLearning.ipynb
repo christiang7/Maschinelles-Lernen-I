{
 "cells": [
  {
   "cell_type": "markdown",
   "metadata": {
    "id": "03ea8CCrlrLB"
   },
   "source": [
    "# Models, Data, Learning Problems\n",
    "\n",
    "In this lab we start our first data analysis on a concrete problem. We are using Fisher's famous <a href=\"https://en.wikipedia.org/wiki/Iris_flower_data_set\">Iris data set</a>. The goal is to classify flowers from the Iris family into one of three species, that look as follows:\n",
    "\n",
    "<table>\n",
    "<tr>\n",
    "<td> <img src=\"figures/iris_setosa.jpg\" width=\"200\" style=\"height:150px\"/> </td>\n",
    "<td> <img src=\"figures/iris_versicolor.jpg\" width=\"200\" style=\"height:150px\"/> </td>\n",
    "<td> <img src=\"figures/iris_virginica.jpg\" width=\"200\" style=\"height:150px\"/> </td>\n",
    "</tr>\n",
    "\n",
    "<tr> \n",
    "<td>Iris Setosa</td>\n",
    "<td>Iris Versicolor</td>\n",
    "<td>Iris Virginica</td>\n",
    "</tr>\n",
    "</table>\n",
    "\n",
    "Our data set contains 50 flowers from each class, thus 150 in total. There are four features, the length and width of the petal (dt. Kronblatt) and sepal (dt. Kelchblatt) in centimeters.\n",
    "\n",
    "<img src=\"figures/petal_sepal.jpg\" width=\"400\" style=\"height:300px\"/>\n",
    "\n",
    "Your task is to go through the notebook, understand premade code and text as well as filling blanks and exercises left for you. You may also edit the notebook as you wish. A good way to learn is to add comments (lines starting with #) or modifying the code and see what changes."
   ]
  },
  {
   "cell_type": "markdown",
   "metadata": {
    "id": "iaOJXR74lrLE"
   },
   "source": [
    "The data set is distributed with sci-kit learn, the only thing we have to do is to import a function and call it."
   ]
  },
  {
   "cell_type": "code",
   "execution_count": null,
   "metadata": {
    "id": "zwE-ZW80lrLF"
   },
   "outputs": [],
   "source": [
    "from sklearn.datasets import load_iris\n",
    "\n",
    "data = load_iris()\n",
    "X = data.data\n",
    "y = data.target\n",
    "print(type(X))\n",
    "print(X.shape)\n",
    "\n",
    "print(f\"First three rows of data\\n{X[:3]}\")\n",
    "print(f\"First three labels: {y[:3]}\")"
   ]
  },
  {
   "cell_type": "markdown",
   "metadata": {
    "id": "b0GGchgGlrLG"
   },
   "source": [
    " Not only do we get the input matrix $X \\in \\mathbb{R}^{150 \\times 4}$ and target $y \\in \\mathbb{R}^{150}$, but also meta information such as what the class labels $0, 1, 2$ stand for and what the features (i.e. columns of $X$) correspond to."
   ]
  },
  {
   "cell_type": "code",
   "execution_count": null,
   "metadata": {
    "id": "v7VKYjK0lrLH"
   },
   "outputs": [],
   "source": [
    "print(data.target_names)\n",
    "print(data.feature_names)"
   ]
  },
  {
   "cell_type": "markdown",
   "metadata": {
    "id": "86Zm9m8plrLI"
   },
   "source": [
    "As a first step we focus our analysis on the first two variables, the sepal length and sepal width. Since we obtain a representation of the data in two dimensions, we are able to plot it. "
   ]
  },
  {
   "cell_type": "code",
   "execution_count": null,
   "metadata": {
    "id": "87El-xfwlrLI"
   },
   "outputs": [],
   "source": [
    "X_2 = X[:, :2]\n",
    "y_2 = y"
   ]
  },
  {
   "cell_type": "code",
   "execution_count": null,
   "metadata": {
    "id": "ZF68wAhUlrLI"
   },
   "outputs": [],
   "source": [
    "# Configures Jupyter to show graphics in the notebook\n",
    "%matplotlib inline\n",
    "from matplotlib import pyplot as plt # standard import\n",
    "\n",
    "# We write a function so we can reuse it later.\n",
    "def generate_scatter_plot(X, y):\n",
    "    class_names = data.target_names\n",
    "    class_colors = ['blue','yellow','green']\n",
    "\n",
    "    fig = plt.figure(figsize=(12, 6)) # increase size of plot\n",
    "    \n",
    "    for i, class_color in enumerate(class_colors):\n",
    "        # plot the points only of this class label\n",
    "        plt.scatter(X[y == i, 0], X[y == i, 1], c=class_color, label=class_names[i]) \n",
    "\n",
    "    plt.xlabel(data.feature_names[0]) # label the axis\n",
    "    plt.ylabel(data.feature_names[1])\n",
    "    plt.legend(loc=\"best\") # with legend\n",
    "\n",
    "generate_scatter_plot(X_2, y)"
   ]
  },
  {
   "cell_type": "markdown",
   "metadata": {
    "id": "hhvZZ9SzlrLJ"
   },
   "source": [
    "We see that we could discriminate the iris setosa linearly from other two species. The linear function could even have a slope of about $1$. Let us substitute the first feature with the difference of the two features."
   ]
  },
  {
   "cell_type": "code",
   "execution_count": null,
   "metadata": {
    "id": "EuVmM0sZlrLK"
   },
   "outputs": [],
   "source": [
    "import numpy as np\n",
    "x_new = X[:, 0] - X[:, 1]\n",
    "X_new = np.column_stack((x_new, X[:, 1]))\n",
    "print(X_new.shape)\n",
    "generate_scatter_plot(X_new, y)\n",
    "plt.xlabel(\"sepal length - sepal width\")"
   ]
  },
  {
   "cell_type": "markdown",
   "metadata": {
    "id": "RrNWzJUGlrLK"
   },
   "source": [
    "Remember that our main goal is to find a model,\n",
    "\n",
    "$$ y_\\theta: X \\rightarrow Y $$\n",
    "\n",
    "such that $y_\\theta(x)$ models the knowledge we got from our training data plus the inductive bias. The plot gives the decision rule (or part of):\n",
    "\n",
    "<center>\"If sepal length - sepal width $\\leq$ 2.2 $\\rightarrow$ Classify iris setosa\"</center>\n",
    "\n",
    "<b>Exercise 1:</b>\n",
    "\n",
    "\n",
    "Implement the naive decision rule as given above. If the condition for iris setosa is not fulfilled, classify the result as 'iris versicolor'."
   ]
  },
  {
   "cell_type": "code",
   "execution_count": null,
   "metadata": {
    "id": "32Lp8xsolrLL"
   },
   "outputs": [],
   "source": [
    "def naive_decision_rule(x):\n",
    "    # x is one row/data point of X, i.e. a vector with 4 columns.  \n",
    "    # returns the expected class label for one data point of X (0 = setosa, 1 = versicolor, 2 = virginica)\n",
    "    \n",
    "    # FILL IN\n",
    "    return 1"
   ]
  },
  {
   "cell_type": "markdown",
   "metadata": {
    "id": "6L49KoyWlrLM"
   },
   "source": [
    "The following function takes a decision rule (or model) and a matrix of data points to generate the predictions for this matrix."
   ]
  },
  {
   "cell_type": "code",
   "execution_count": null,
   "metadata": {
    "id": "XjdNOOavlrLM"
   },
   "outputs": [],
   "source": [
    "def predict(model, X):\n",
    "    \"\"\"Builds prediction on a matrix X given a model for each data point in a row.\n",
    "    Returns a flat vector of predictions.\n",
    "    \"\"\"\n",
    "    return np.apply_along_axis(model, axis=1, arr=X)\n",
    "\n",
    "y_pred = predict(naive_decision_rule, X)\n",
    "print(y_pred)"
   ]
  },
  {
   "cell_type": "markdown",
   "metadata": {
    "id": "z1AM9PnalrLN"
   },
   "source": [
    "The predictions of the first 50 numbers should be zero and one for all others. Now we have to judge the quality of our model, we do this by using the zero one-loss function of the lecture.\n",
    "\n",
    "<b>Exercise 2:</b>\n",
    "\n",
    "Implement the zero-one-loss function as defined in the lecture,\n",
    "$$ \n",
    "\\begin{align}\n",
    "l(x_i, y_i; \\theta) &= l_{0/1}(y_\\theta(x_i), y_i) = \\begin{cases} 0, & \\mbox{ if } y_\\theta(x_i) = y_i \\\\ 1, & \\mbox{ otherwise } \\end{cases} \\\\\n",
    "l(X, y; \\theta) &= \\sum_i{ l(x_i, y_i; \\theta). }\n",
    "\\end{align}\n",
    "$$\n",
    "In lay-man terms one counts how often the label predicted differed from the observed label."
   ]
  },
  {
   "cell_type": "code",
   "execution_count": null,
   "metadata": {
    "id": "R42TssyZlrLN"
   },
   "outputs": [],
   "source": [
    "def zero_one_loss(y_pred, y_true):\n",
    "    # FILL IN\n",
    "    pass"
   ]
  },
  {
   "cell_type": "code",
   "execution_count": null,
   "metadata": {
    "id": "NwTcZnH8lrLN"
   },
   "outputs": [],
   "source": [
    "print(f\"The 0-1-loss of the naive decision rule is {zero_one_loss(y_pred, y)} (should be 50)\")"
   ]
  },
  {
   "cell_type": "markdown",
   "metadata": {
    "id": "bcCLw7palrLN"
   },
   "source": [
    "<b>Exercise 3:</b>\n",
    "\n",
    "Improve the decision rule to have a maximum number of misclassifications of $10$. As an informal constraint use \"Occams Razor\" as an inductive bias, i.e. as simple as possible.\n",
    "\n",
    "<b>Discussion topic:</b> Why could a complex model with zero misclassifications perform worse in reality (we got out and measure new flowers) than a simple model with more misclassifications?"
   ]
  },
  {
   "cell_type": "code",
   "execution_count": null,
   "metadata": {
    "id": "CrNFZYJ_lrLO"
   },
   "outputs": [],
   "source": [
    "# Place for your analysis.\n",
    "def my_decision_rule(x):\n",
    "    # FILL IN\n",
    "    pass"
   ]
  },
  {
   "cell_type": "code",
   "execution_count": null,
   "metadata": {
    "id": "4LV61SP9lrLO"
   },
   "outputs": [],
   "source": [
    "# Evaluation script\n",
    "y_pred = predict(my_decision_rule, X)\n",
    "print(y_pred)\n",
    "loss = zero_one_loss(y_pred, y)\n",
    "print(f\"Your loss {loss}.\")\n",
    "\n",
    "if loss <= 10:\n",
    "    print(\"You have made it!\")\n",
    "else:\n",
    "    print(\"Uhm, try again. Maybe you have flipped some class?\")"
   ]
  }
 ],
 "metadata": {
  "colab": {
   "provenance": []
  },
  "kernelspec": {
   "display_name": "Python 3 (ipykernel)",
   "language": "python",
   "name": "python3"
  },
  "language_info": {
   "codemirror_mode": {
    "name": "ipython",
    "version": 3
   },
   "file_extension": ".py",
   "mimetype": "text/x-python",
   "name": "python",
   "nbconvert_exporter": "python",
   "pygments_lexer": "ipython3",
   "version": "3.10.14"
  }
 },
 "nbformat": 4,
 "nbformat_minor": 4
}
